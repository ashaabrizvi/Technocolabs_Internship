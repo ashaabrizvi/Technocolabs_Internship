{
  "nbformat": 4,
  "nbformat_minor": 0,
  "metadata": {
    "kernelspec": {
      "display_name": "Python 3",
      "language": "python",
      "name": "python3"
    },
    "language_info": {
      "codemirror_mode": {
        "name": "ipython",
        "version": 3
      },
      "file_extension": ".py",
      "mimetype": "text/x-python",
      "name": "python",
      "nbconvert_exporter": "python",
      "pygments_lexer": "ipython3",
      "version": "3.7.4"
    },
    "colab": {
      "name": "Deriving_Financial_Insights.ipynb",
      "provenance": []
    }
  },
  "cells": [
    {
      "cell_type": "markdown",
      "metadata": {
        "id": "be9ZIirJdS9F",
        "colab_type": "text"
      },
      "source": [
        "**Your challenge can be found toward the end of this notebook. The code below will be needed in order to begin the challenge. Read through and execute all necessary portions of this code to complete the tasks for this challenge.**"
      ]
    },
    {
      "cell_type": "markdown",
      "metadata": {
        "id": "Pmx2zICfdS9I",
        "colab_type": "text"
      },
      "source": [
        "##### Import the necessary packages"
      ]
    },
    {
      "cell_type": "code",
      "metadata": {
        "id": "gbApnv7TdS9J",
        "colab_type": "code",
        "colab": {}
      },
      "source": [
        "import numpy as np #numerical computation\n",
        "import pandas as pd #data wrangling\n",
        "import matplotlib.pyplot as plt #plotting package\n",
        "#Next line helps with rendering plots\n",
        "%matplotlib inline\n",
        "import matplotlib as mpl #add'l plotting functionality\n",
        "mpl.rcParams['figure.dpi'] = 100 #high res figures\n",
        "import graphviz #to visualize decision trees"
      ],
      "execution_count": 116,
      "outputs": []
    },
    {
      "cell_type": "markdown",
      "metadata": {
        "id": "gVwbGjBmdS9S",
        "colab_type": "text"
      },
      "source": [
        "##### Cleaning the Dataset"
      ]
    },
    {
      "cell_type": "code",
      "metadata": {
        "id": "TuEBHXoAdS9T",
        "colab_type": "code",
        "colab": {}
      },
      "source": [
        "df_orig = pd.read_excel('default_of_credit_card_clients.xls')"
      ],
      "execution_count": 117,
      "outputs": []
    },
    {
      "cell_type": "code",
      "metadata": {
        "id": "CBuSFYpxdS9d",
        "colab_type": "code",
        "colab": {}
      },
      "source": [
        "df_zero_mask = df_orig == 0"
      ],
      "execution_count": 118,
      "outputs": []
    },
    {
      "cell_type": "code",
      "metadata": {
        "id": "0LJe3xJFdS9j",
        "colab_type": "code",
        "colab": {}
      },
      "source": [
        "feature_zero_mask = df_zero_mask.iloc[:,1:].all(axis=1)"
      ],
      "execution_count": 119,
      "outputs": []
    },
    {
      "cell_type": "code",
      "metadata": {
        "id": "_37AozwidS9p",
        "colab_type": "code",
        "colab": {
          "base_uri": "https://localhost:8080/",
          "height": 34
        },
        "outputId": "1afe1ff0-216b-48ec-eb57-0e6abe451e9f"
      },
      "source": [
        "sum(feature_zero_mask)\n",
        "# 315"
      ],
      "execution_count": 120,
      "outputs": [
        {
          "output_type": "execute_result",
          "data": {
            "text/plain": [
              "315"
            ]
          },
          "metadata": {
            "tags": []
          },
          "execution_count": 120
        }
      ]
    },
    {
      "cell_type": "markdown",
      "metadata": {
        "id": "IBN4-l3qdS9w",
        "colab_type": "text"
      },
      "source": [
        "Remove all the rows with all zero features and response, confirm this that gets rid of the duplicate IDs."
      ]
    },
    {
      "cell_type": "code",
      "metadata": {
        "id": "LhHDlZefdS9x",
        "colab_type": "code",
        "colab": {}
      },
      "source": [
        "df_clean = df_orig.loc[~feature_zero_mask,:].copy()"
      ],
      "execution_count": 121,
      "outputs": []
    },
    {
      "cell_type": "code",
      "metadata": {
        "id": "evcbZJXUdS94",
        "colab_type": "code",
        "colab": {
          "base_uri": "https://localhost:8080/",
          "height": 34
        },
        "outputId": "a836b535-a985-4f02-d77d-fa47b6853305"
      },
      "source": [
        "df_clean.shape\n",
        "# (29685, 25)"
      ],
      "execution_count": 122,
      "outputs": [
        {
          "output_type": "execute_result",
          "data": {
            "text/plain": [
              "(29685, 25)"
            ]
          },
          "metadata": {
            "tags": []
          },
          "execution_count": 122
        }
      ]
    },
    {
      "cell_type": "code",
      "metadata": {
        "id": "JqEVEYH7dS9-",
        "colab_type": "code",
        "colab": {
          "base_uri": "https://localhost:8080/",
          "height": 34
        },
        "outputId": "c689ee80-6714-4096-e48d-ebd801022df9"
      },
      "source": [
        "df_clean['ID'].nunique()\n",
        "# 29685"
      ],
      "execution_count": 123,
      "outputs": [
        {
          "output_type": "execute_result",
          "data": {
            "text/plain": [
              "29685"
            ]
          },
          "metadata": {
            "tags": []
          },
          "execution_count": 123
        }
      ]
    },
    {
      "cell_type": "markdown",
      "metadata": {
        "id": "4Keqd80NdS-E",
        "colab_type": "text"
      },
      "source": [
        "Clean up the `EDUCATION` and `MARRIAGE` features as in Chapter 1"
      ]
    },
    {
      "cell_type": "code",
      "metadata": {
        "id": "VBdyxWWidS-G",
        "colab_type": "code",
        "colab": {
          "base_uri": "https://localhost:8080/",
          "height": 153
        },
        "outputId": "77c455d3-9f11-4a30-abf9-3fa1d744ac84"
      },
      "source": [
        "df_clean['EDUCATION'].value_counts()\n",
        "# 2    13884\n",
        "# 1    10474\n",
        "# 3     4867\n",
        "# 5      275\n",
        "# 4      122\n",
        "# 6       49\n",
        "# 0       14\n",
        "# Name: EDUCATION, dtype: int64"
      ],
      "execution_count": 124,
      "outputs": [
        {
          "output_type": "execute_result",
          "data": {
            "text/plain": [
              "2    13884\n",
              "1    10474\n",
              "3     4867\n",
              "5      275\n",
              "4      122\n",
              "6       49\n",
              "0       14\n",
              "Name: EDUCATION, dtype: int64"
            ]
          },
          "metadata": {
            "tags": []
          },
          "execution_count": 124
        }
      ]
    },
    {
      "cell_type": "markdown",
      "metadata": {
        "id": "8lDQ1BytdS-L",
        "colab_type": "text"
      },
      "source": [
        "\"Education (1 = graduate school; 2 = university; 3 = high school; 4 = others)\""
      ]
    },
    {
      "cell_type": "markdown",
      "metadata": {
        "id": "MCu5wOjmdS-N",
        "colab_type": "text"
      },
      "source": [
        "Assign unknown categories to other."
      ]
    },
    {
      "cell_type": "code",
      "metadata": {
        "id": "tqukcuVVdS-O",
        "colab_type": "code",
        "colab": {}
      },
      "source": [
        "df_clean['EDUCATION'].replace(to_replace=[0, 5, 6], value=4, inplace=True)"
      ],
      "execution_count": 125,
      "outputs": []
    },
    {
      "cell_type": "code",
      "metadata": {
        "id": "4SuECjBOdS-V",
        "colab_type": "code",
        "colab": {
          "base_uri": "https://localhost:8080/",
          "height": 102
        },
        "outputId": "40f6ee60-2f85-4060-8af3-aaa9450b4356"
      },
      "source": [
        "df_clean['EDUCATION'].value_counts()\n",
        "# 2    13884\n",
        "# 1    10474\n",
        "# 3     4867\n",
        "# 4      460\n",
        "# Name: EDUCATION, dtype: int64"
      ],
      "execution_count": 126,
      "outputs": [
        {
          "output_type": "execute_result",
          "data": {
            "text/plain": [
              "2    13884\n",
              "1    10474\n",
              "3     4867\n",
              "4      460\n",
              "Name: EDUCATION, dtype: int64"
            ]
          },
          "metadata": {
            "tags": []
          },
          "execution_count": 126
        }
      ]
    },
    {
      "cell_type": "markdown",
      "metadata": {
        "id": "GoJ_C00gdS-Z",
        "colab_type": "text"
      },
      "source": [
        "Examine and clean marriage feature as well:"
      ]
    },
    {
      "cell_type": "code",
      "metadata": {
        "id": "LVvCHgxJdS-a",
        "colab_type": "code",
        "colab": {
          "base_uri": "https://localhost:8080/",
          "height": 102
        },
        "outputId": "59cdfdc5-e9d1-4ac5-c86b-4df8668698b1"
      },
      "source": [
        "df_clean['MARRIAGE'].value_counts()\n",
        "# 2    15810\n",
        "# 1    13503\n",
        "# 3      318\n",
        "# 0       54\n",
        "# Name: MARRIAGE, dtype: int64"
      ],
      "execution_count": 127,
      "outputs": [
        {
          "output_type": "execute_result",
          "data": {
            "text/plain": [
              "2    15810\n",
              "1    13503\n",
              "3      318\n",
              "0       54\n",
              "Name: MARRIAGE, dtype: int64"
            ]
          },
          "metadata": {
            "tags": []
          },
          "execution_count": 127
        }
      ]
    },
    {
      "cell_type": "code",
      "metadata": {
        "id": "csJCDfoydS-e",
        "colab_type": "code",
        "colab": {}
      },
      "source": [
        "#Should only be (1 = married; 2 = single; 3 = others).\n",
        "df_clean['MARRIAGE'].replace(to_replace=0, value=3, inplace=True)"
      ],
      "execution_count": 128,
      "outputs": []
    },
    {
      "cell_type": "code",
      "metadata": {
        "id": "K_2QJYXMdS-h",
        "colab_type": "code",
        "colab": {
          "base_uri": "https://localhost:8080/",
          "height": 85
        },
        "outputId": "c6f293c6-8b95-4ef5-b32f-c3e79dcab819"
      },
      "source": [
        "df_clean['MARRIAGE'].value_counts()\n",
        "# 2    15810\n",
        "# 1    13503\n",
        "# 3      372\n",
        "# Name: MARRIAGE, dtype: int64"
      ],
      "execution_count": 129,
      "outputs": [
        {
          "output_type": "execute_result",
          "data": {
            "text/plain": [
              "2    15810\n",
              "1    13503\n",
              "3      372\n",
              "Name: MARRIAGE, dtype: int64"
            ]
          },
          "metadata": {
            "tags": []
          },
          "execution_count": 129
        }
      ]
    },
    {
      "cell_type": "markdown",
      "metadata": {
        "id": "zq0iIj__dS-m",
        "colab_type": "text"
      },
      "source": [
        "Now instead of removing rows with `PAY_1` = 'Not available', as done in Chapter 1, here select these out for addition to training and testing splits."
      ]
    },
    {
      "cell_type": "code",
      "metadata": {
        "id": "H9L3eMTfdS-m",
        "colab_type": "code",
        "colab": {
          "base_uri": "https://localhost:8080/",
          "height": 238
        },
        "outputId": "c079a37a-82cc-432a-8a0a-ac872dac5ea5"
      },
      "source": [
        "df_clean['PAY_1'].value_counts()\n",
        "# 0                13087\n",
        "# -1                5047\n",
        "# 1                 3261\n",
        "# Not available     3021\n",
        "# -2                2476\n",
        "# 2                 2378\n",
        "# 3                  292\n",
        "# 4                   63\n",
        "# 5                   23\n",
        "# 8                   17\n",
        "# 6                   11\n",
        "# 7                    9\n",
        "# Name: PAY_1, dtype: int64"
      ],
      "execution_count": 130,
      "outputs": [
        {
          "output_type": "execute_result",
          "data": {
            "text/plain": [
              "0                13087\n",
              "-1                5047\n",
              "1                 3261\n",
              "Not available     3021\n",
              "-2                2476\n",
              "2                 2378\n",
              "3                  292\n",
              "4                   63\n",
              "5                   23\n",
              "8                   17\n",
              "6                   11\n",
              "7                    9\n",
              "Name: PAY_1, dtype: int64"
            ]
          },
          "metadata": {
            "tags": []
          },
          "execution_count": 130
        }
      ]
    },
    {
      "cell_type": "code",
      "metadata": {
        "id": "9UwcLWpqdS-q",
        "colab_type": "code",
        "colab": {}
      },
      "source": [
        "missing_pay_1_mask = df_clean['PAY_1'] == 'Not available'"
      ],
      "execution_count": 131,
      "outputs": []
    },
    {
      "cell_type": "code",
      "metadata": {
        "id": "_fS9bCJudS-v",
        "colab_type": "code",
        "colab": {
          "base_uri": "https://localhost:8080/",
          "height": 34
        },
        "outputId": "98facb63-d5bc-4636-8385-f227f702a6f1"
      },
      "source": [
        "sum(missing_pay_1_mask)\n",
        "# 3021"
      ],
      "execution_count": 132,
      "outputs": [
        {
          "output_type": "execute_result",
          "data": {
            "text/plain": [
              "3021"
            ]
          },
          "metadata": {
            "tags": []
          },
          "execution_count": 132
        }
      ]
    },
    {
      "cell_type": "code",
      "metadata": {
        "id": "sml7YdqzdS-z",
        "colab_type": "code",
        "colab": {}
      },
      "source": [
        "df_missing_pay_1 = df_clean.loc[missing_pay_1_mask,:].copy()"
      ],
      "execution_count": 133,
      "outputs": []
    },
    {
      "cell_type": "code",
      "metadata": {
        "id": "Bo46Ir5TdS-4",
        "colab_type": "code",
        "colab": {
          "base_uri": "https://localhost:8080/",
          "height": 34
        },
        "outputId": "b8fb7805-f7dd-49de-f1ba-395bf24c3a87"
      },
      "source": [
        "df_missing_pay_1.shape\n",
        "# (3021, 25)"
      ],
      "execution_count": 134,
      "outputs": [
        {
          "output_type": "execute_result",
          "data": {
            "text/plain": [
              "(3021, 25)"
            ]
          },
          "metadata": {
            "tags": []
          },
          "execution_count": 134
        }
      ]
    },
    {
      "cell_type": "code",
      "metadata": {
        "id": "w9fVTcd-dS-8",
        "colab_type": "code",
        "colab": {
          "base_uri": "https://localhost:8080/",
          "height": 85
        },
        "outputId": "5293eb5c-ec46-43cc-cb57-0408fd33195a"
      },
      "source": [
        "df_missing_pay_1['PAY_1'].head(3)"
      ],
      "execution_count": 135,
      "outputs": [
        {
          "output_type": "execute_result",
          "data": {
            "text/plain": [
              "17    Not available\n",
              "28    Not available\n",
              "29    Not available\n",
              "Name: PAY_1, dtype: object"
            ]
          },
          "metadata": {
            "tags": []
          },
          "execution_count": 135
        }
      ]
    },
    {
      "cell_type": "code",
      "metadata": {
        "id": "hsXVbJkedS_A",
        "colab_type": "code",
        "colab": {
          "base_uri": "https://localhost:8080/",
          "height": 51
        },
        "outputId": "26510a2b-023e-4fd5-ae8c-03c0f381574e"
      },
      "source": [
        "df_missing_pay_1['PAY_1'].value_counts()"
      ],
      "execution_count": 136,
      "outputs": [
        {
          "output_type": "execute_result",
          "data": {
            "text/plain": [
              "Not available    3021\n",
              "Name: PAY_1, dtype: int64"
            ]
          },
          "metadata": {
            "tags": []
          },
          "execution_count": 136
        }
      ]
    },
    {
      "cell_type": "code",
      "metadata": {
        "id": "l3muzWWpdS_D",
        "colab_type": "code",
        "colab": {
          "base_uri": "https://localhost:8080/",
          "height": 119
        },
        "outputId": "63044e56-8d28-407c-8693-ebe2d945260f"
      },
      "source": [
        "df_missing_pay_1.columns"
      ],
      "execution_count": 137,
      "outputs": [
        {
          "output_type": "execute_result",
          "data": {
            "text/plain": [
              "Index(['ID', 'LIMIT_BAL', 'SEX', 'EDUCATION', 'MARRIAGE', 'AGE', 'PAY_1',\n",
              "       'PAY_2', 'PAY_3', 'PAY_4', 'PAY_5', 'PAY_6', 'BILL_AMT1', 'BILL_AMT2',\n",
              "       'BILL_AMT3', 'BILL_AMT4', 'BILL_AMT5', 'BILL_AMT6', 'PAY_AMT1',\n",
              "       'PAY_AMT2', 'PAY_AMT3', 'PAY_AMT4', 'PAY_AMT5', 'PAY_AMT6',\n",
              "       'default payment next month'],\n",
              "      dtype='object')"
            ]
          },
          "metadata": {
            "tags": []
          },
          "execution_count": 137
        }
      ]
    },
    {
      "cell_type": "markdown",
      "metadata": {
        "id": "ptgMl57BdS_I",
        "colab_type": "text"
      },
      "source": [
        "Load cleaned data"
      ]
    },
    {
      "cell_type": "code",
      "metadata": {
        "id": "noGiRJ62dS_J",
        "colab_type": "code",
        "colab": {}
      },
      "source": [
        "df = pd.read_csv('https://raw.githubusercontent.com/Technocolabs100/Project-Data-Set-Repository/master/Data%20set/cleaned_data.csv')"
      ],
      "execution_count": 138,
      "outputs": []
    },
    {
      "cell_type": "code",
      "metadata": {
        "id": "PPPrzikxdS_Q",
        "colab_type": "code",
        "colab": {
          "base_uri": "https://localhost:8080/",
          "height": 136
        },
        "outputId": "2138032b-230c-4f5e-e50a-f5be8927dc1b"
      },
      "source": [
        "df.columns"
      ],
      "execution_count": 139,
      "outputs": [
        {
          "output_type": "execute_result",
          "data": {
            "text/plain": [
              "Index(['ID', 'LIMIT_BAL', 'SEX', 'EDUCATION', 'MARRIAGE', 'AGE', 'PAY_1',\n",
              "       'PAY_2', 'PAY_3', 'PAY_4', 'PAY_5', 'PAY_6', 'BILL_AMT1', 'BILL_AMT2',\n",
              "       'BILL_AMT3', 'BILL_AMT4', 'BILL_AMT5', 'BILL_AMT6', 'PAY_AMT1',\n",
              "       'PAY_AMT2', 'PAY_AMT3', 'PAY_AMT4', 'PAY_AMT5', 'PAY_AMT6',\n",
              "       'default payment next month', 'EDUCATION_CAT', 'graduate school',\n",
              "       'high school', 'others', 'university'],\n",
              "      dtype='object')"
            ]
          },
          "metadata": {
            "tags": []
          },
          "execution_count": 139
        }
      ]
    },
    {
      "cell_type": "code",
      "metadata": {
        "id": "XQuvR-zldS_W",
        "colab_type": "code",
        "colab": {}
      },
      "source": [
        "features_response = df.columns.tolist()"
      ],
      "execution_count": 140,
      "outputs": []
    },
    {
      "cell_type": "code",
      "metadata": {
        "id": "sqg-h-O_dS_a",
        "colab_type": "code",
        "colab": {}
      },
      "source": [
        "items_to_remove = ['ID', 'SEX', 'PAY_2', 'PAY_3', 'PAY_4', 'PAY_5', 'PAY_6',\n",
        "                   'EDUCATION_CAT', 'graduate school', 'high school', 'none',\n",
        "                   'others', 'university']"
      ],
      "execution_count": 141,
      "outputs": []
    },
    {
      "cell_type": "code",
      "metadata": {
        "id": "RDNy_A4PdS_d",
        "colab_type": "code",
        "colab": {
          "base_uri": "https://localhost:8080/",
          "height": 323
        },
        "outputId": "d04da830-49a1-4e09-e145-cc40889c0932"
      },
      "source": [
        "features_response = [item for item in features_response if item not in items_to_remove]\n",
        "features_response"
      ],
      "execution_count": 142,
      "outputs": [
        {
          "output_type": "execute_result",
          "data": {
            "text/plain": [
              "['LIMIT_BAL',\n",
              " 'EDUCATION',\n",
              " 'MARRIAGE',\n",
              " 'AGE',\n",
              " 'PAY_1',\n",
              " 'BILL_AMT1',\n",
              " 'BILL_AMT2',\n",
              " 'BILL_AMT3',\n",
              " 'BILL_AMT4',\n",
              " 'BILL_AMT5',\n",
              " 'BILL_AMT6',\n",
              " 'PAY_AMT1',\n",
              " 'PAY_AMT2',\n",
              " 'PAY_AMT3',\n",
              " 'PAY_AMT4',\n",
              " 'PAY_AMT5',\n",
              " 'PAY_AMT6',\n",
              " 'default payment next month']"
            ]
          },
          "metadata": {
            "tags": []
          },
          "execution_count": 142
        }
      ]
    },
    {
      "cell_type": "markdown",
      "metadata": {
        "id": "jf5l0OkcdS_h",
        "colab_type": "text"
      },
      "source": [
        "##### Mode and Random Imputation of `PAY_1`"
      ]
    },
    {
      "cell_type": "code",
      "metadata": {
        "id": "yjEa7CMUdS_i",
        "colab_type": "code",
        "colab": {}
      },
      "source": [
        "from sklearn.model_selection import train_test_split"
      ],
      "execution_count": 143,
      "outputs": []
    },
    {
      "cell_type": "code",
      "metadata": {
        "id": "s5-tla_BdS_l",
        "colab_type": "code",
        "colab": {}
      },
      "source": [
        "X_train, X_test, y_train, y_test = \\\n",
        "train_test_split(df[features_response[:-1]].values, df['default payment next month'].values,\n",
        "test_size=0.2, random_state=24)"
      ],
      "execution_count": 144,
      "outputs": []
    },
    {
      "cell_type": "code",
      "metadata": {
        "id": "LOqUoSFKdS_p",
        "colab_type": "code",
        "colab": {
          "base_uri": "https://localhost:8080/",
          "height": 85
        },
        "outputId": "899f8f95-4059-45a2-b348-c90e046d9685"
      },
      "source": [
        "print(X_train.shape)\n",
        "print(X_test.shape)\n",
        "print(y_train.shape)\n",
        "print(y_test.shape)\n",
        "# (21331, 17)\n",
        "# (5333, 17)\n",
        "# (21331,)\n",
        "# (5333,)"
      ],
      "execution_count": 145,
      "outputs": [
        {
          "output_type": "stream",
          "text": [
            "(21331, 17)\n",
            "(5333, 17)\n",
            "(21331,)\n",
            "(5333,)\n"
          ],
          "name": "stdout"
        }
      ]
    },
    {
      "cell_type": "code",
      "metadata": {
        "id": "r7vg8zHYdS_t",
        "colab_type": "code",
        "colab": {
          "base_uri": "https://localhost:8080/",
          "height": 34
        },
        "outputId": "a86fd655-a640-478d-b574-9c6e684bb3f9"
      },
      "source": [
        "df_missing_pay_1.shape"
      ],
      "execution_count": 146,
      "outputs": [
        {
          "output_type": "execute_result",
          "data": {
            "text/plain": [
              "(3021, 25)"
            ]
          },
          "metadata": {
            "tags": []
          },
          "execution_count": 146
        }
      ]
    },
    {
      "cell_type": "code",
      "metadata": {
        "id": "vne6r7HZdS_w",
        "colab_type": "code",
        "colab": {
          "base_uri": "https://localhost:8080/",
          "height": 35
        },
        "outputId": "01abfbd3-029b-4460-ad14-2155496587b6"
      },
      "source": [
        "features_response[4]"
      ],
      "execution_count": 147,
      "outputs": [
        {
          "output_type": "execute_result",
          "data": {
            "application/vnd.google.colaboratory.intrinsic+json": {
              "type": "string"
            },
            "text/plain": [
              "'PAY_1'"
            ]
          },
          "metadata": {
            "tags": []
          },
          "execution_count": 147
        }
      ]
    },
    {
      "cell_type": "code",
      "metadata": {
        "id": "QuUSujUNdS_z",
        "colab_type": "code",
        "colab": {
          "base_uri": "https://localhost:8080/",
          "height": 34
        },
        "outputId": "777409f4-2490-430a-e5de-590267e6e1e2"
      },
      "source": [
        "np.median(X_train[:,4])"
      ],
      "execution_count": 148,
      "outputs": [
        {
          "output_type": "execute_result",
          "data": {
            "text/plain": [
              "0.0"
            ]
          },
          "metadata": {
            "tags": []
          },
          "execution_count": 148
        }
      ]
    },
    {
      "cell_type": "code",
      "metadata": {
        "id": "W4muS9J0dS_3",
        "colab_type": "code",
        "colab": {}
      },
      "source": [
        "np.random.seed(seed=1)\n",
        "fill_values = [0, np.random.choice(X_train[:,4], size=(3021,), replace=True)]"
      ],
      "execution_count": 149,
      "outputs": []
    },
    {
      "cell_type": "code",
      "metadata": {
        "id": "UKMrRMt4dS_6",
        "colab_type": "code",
        "colab": {}
      },
      "source": [
        "fill_strategy = ['mode', 'random']"
      ],
      "execution_count": 150,
      "outputs": []
    },
    {
      "cell_type": "code",
      "metadata": {
        "id": "qYfuAKQcdS_-",
        "colab_type": "code",
        "colab": {
          "base_uri": "https://localhost:8080/",
          "height": 34
        },
        "outputId": "1c23ab10-3766-466b-c724-d9a5c8644b22"
      },
      "source": [
        "fill_values[-1]"
      ],
      "execution_count": 151,
      "outputs": [
        {
          "output_type": "execute_result",
          "data": {
            "text/plain": [
              "array([ 0,  0,  0, ...,  2,  0, -2])"
            ]
          },
          "metadata": {
            "tags": []
          },
          "execution_count": 151
        }
      ]
    },
    {
      "cell_type": "code",
      "metadata": {
        "id": "m79E6ABjdTAD",
        "colab_type": "code",
        "colab": {
          "base_uri": "https://localhost:8080/",
          "height": 307
        },
        "outputId": "e304ee64-a7f0-437f-c4c8-db86d46fdbfa"
      },
      "source": [
        "fig, axs = plt.subplots(1,2, figsize=(8,3))\n",
        "bin_edges = np.arange(-2,9)\n",
        "axs[0].hist(X_train[:,4], bins=bin_edges, align='left')\n",
        "axs[0].set_xticks(bin_edges)\n",
        "axs[0].set_title('Non-missing values of PAY_1')\n",
        "axs[1].hist(fill_values[-1], bins=bin_edges, align='left')\n",
        "axs[1].set_xticks(bin_edges)\n",
        "axs[1].set_title('Random selection for imputation')\n",
        "plt.tight_layout()"
      ],
      "execution_count": 152,
      "outputs": [
        {
          "output_type": "display_data",
          "data": {
            "image/png": "[encoded data removed]",
            "text/plain": [
              "<Figure size 800x300 with 2 Axes>"
            ]
          },
          "metadata": {
            "tags": [],
            "needs_background": "light"
          }
        }
      ]
    },
    {
      "cell_type": "markdown",
      "metadata": {
        "id": "VtvF8DFEdTAG",
        "colab_type": "text"
      },
      "source": [
        "To do cross-validation on the training set, now we need to shuffle since all the samples with missing `PAY_1` were concatenated on to the end."
      ]
    },
    {
      "cell_type": "code",
      "metadata": {
        "id": "lODyPwMYdTAH",
        "colab_type": "code",
        "colab": {}
      },
      "source": [
        "from sklearn.model_selection import KFold"
      ],
      "execution_count": 153,
      "outputs": []
    },
    {
      "cell_type": "code",
      "metadata": {
        "id": "_zZHDHdXdTAK",
        "colab_type": "code",
        "colab": {}
      },
      "source": [
        "k_folds = KFold(n_splits=4, shuffle=True, random_state=1)"
      ],
      "execution_count": 154,
      "outputs": []
    },
    {
      "cell_type": "markdown",
      "metadata": {
        "id": "FkLvzcpZdTAQ",
        "colab_type": "text"
      },
      "source": [
        "Don't need to do a grid search, so we can use `cross_validate`"
      ]
    },
    {
      "cell_type": "code",
      "metadata": {
        "id": "RqWJ95AydTAR",
        "colab_type": "code",
        "colab": {}
      },
      "source": [
        "from sklearn.model_selection import cross_validate"
      ],
      "execution_count": 155,
      "outputs": []
    },
    {
      "cell_type": "markdown",
      "metadata": {
        "id": "E0lLfhTWdTAV",
        "colab_type": "text"
      },
      "source": [
        "For the estimator, set the optimal hyperparameters determined in previous chapter."
      ]
    },
    {
      "cell_type": "code",
      "metadata": {
        "id": "ZO3m4IEPdTAV",
        "colab_type": "code",
        "colab": {}
      },
      "source": [
        "from sklearn.ensemble import RandomForestClassifier"
      ],
      "execution_count": 156,
      "outputs": []
    },
    {
      "cell_type": "code",
      "metadata": {
        "id": "gGahOqVXdTAb",
        "colab_type": "code",
        "colab": {}
      },
      "source": [
        "rf = RandomForestClassifier\\\n",
        "(n_estimators=200, criterion='gini', max_depth=9,\n",
        "min_samples_split=2, min_samples_leaf=1, min_weight_fraction_leaf=0.0,\n",
        "max_features='auto', max_leaf_nodes=None, min_impurity_decrease=0.0,\n",
        "min_impurity_split=None, bootstrap=True, oob_score=False, n_jobs=None,\n",
        "random_state=4, verbose=1, warm_start=False, class_weight=None)"
      ],
      "execution_count": 157,
      "outputs": []
    },
    {
      "cell_type": "code",
      "metadata": {
        "id": "JfhMBTj8dTAe",
        "colab_type": "code",
        "colab": {
          "base_uri": "https://localhost:8080/",
          "height": 119
        },
        "outputId": "662f1283-b861-4048-c9eb-e5a2d33ce3ce"
      },
      "source": [
        "for counter in range(len(fill_values)):\n",
        "    #Copy the data frame with missing PAY_1 and assign imputed values\n",
        "    df_fill_pay_1_filled = df_missing_pay_1.copy()\n",
        "    df_fill_pay_1_filled['PAY_1'] = fill_values[counter]\n",
        "    \n",
        "    #Split imputed data in to training and testing, using the same\n",
        "    #80/20 split we have used for the data with non-missing PAY_1\n",
        "    X_fill_pay_1_train, X_fill_pay_1_test, y_fill_pay_1_train, y_fill_pay_1_test = \\\n",
        "    train_test_split(\n",
        "        df_fill_pay_1_filled[features_response[:-1]].values,\n",
        "        df_fill_pay_1_filled['default payment next month'].values,\n",
        "    test_size=0.2, random_state=24)\n",
        "    \n",
        "    #Concatenate the imputed data with the array of non-missing data\n",
        "    X_train_all = np.concatenate((X_train, X_fill_pay_1_train), axis=0)\n",
        "    y_train_all = np.concatenate((y_train, y_fill_pay_1_train), axis=0)\n",
        "    \n",
        "    #Use the KFolds splitter and the random forest model to get\n",
        "    #4-fold cross-validation scores for both imputation methods\n",
        "    imputation_compare_cv = cross_validate(rf, X_train_all, y_train_all, scoring='roc_auc',\n",
        "                                       cv=k_folds, n_jobs=-1, verbose=1,\n",
        "                                       return_train_score=True, return_estimator=True,\n",
        "                                       error_score='raise-deprecating')\n",
        "    \n",
        "    test_score = imputation_compare_cv['test_score']\n",
        "    print(fill_strategy[counter] + ' imputation: ' +\n",
        "          'mean testing score ' + str(np.mean(test_score)) +\n",
        "          ', std ' + str(np.std(test_score)))"
      ],
      "execution_count": 158,
      "outputs": [
        {
          "output_type": "stream",
          "text": [
            "[Parallel(n_jobs=-1)]: Using backend LokyBackend with 2 concurrent workers.\n",
            "[Parallel(n_jobs=-1)]: Done   4 out of   4 | elapsed:   23.1s finished\n",
            "[Parallel(n_jobs=-1)]: Using backend LokyBackend with 2 concurrent workers.\n"
          ],
          "name": "stderr"
        },
        {
          "output_type": "stream",
          "text": [
            "mode imputation: mean testing score 0.772866246168149, std 0.0031479941297533737\n",
            "random imputation: mean testing score 0.7692540439833129, std 0.003660875187678248\n"
          ],
          "name": "stdout"
        },
        {
          "output_type": "stream",
          "text": [
            "[Parallel(n_jobs=-1)]: Done   4 out of   4 | elapsed:   22.0s finished\n"
          ],
          "name": "stderr"
        }
      ]
    },
    {
      "cell_type": "markdown",
      "metadata": {
        "id": "ad8dhPnIdTAk",
        "colab_type": "text"
      },
      "source": [
        "##### A Predictive Model for `PAY_1`"
      ]
    },
    {
      "cell_type": "code",
      "metadata": {
        "id": "XLTHaM1ydTAl",
        "colab_type": "code",
        "colab": {}
      },
      "source": [
        "pay_1_df = df.copy()"
      ],
      "execution_count": 159,
      "outputs": []
    },
    {
      "cell_type": "code",
      "metadata": {
        "id": "YCKWkzaFdTAp",
        "colab_type": "code",
        "colab": {}
      },
      "source": [
        "features_for_imputation = pay_1_df.columns.tolist()"
      ],
      "execution_count": 160,
      "outputs": []
    },
    {
      "cell_type": "code",
      "metadata": {
        "id": "qUSU_Ng-dTAs",
        "colab_type": "code",
        "colab": {}
      },
      "source": [
        "items_to_remove_2 = ['ID', 'SEX', 'PAY_2', 'PAY_3', 'PAY_4', 'PAY_5', 'PAY_6',\n",
        "                   'EDUCATION_CAT', 'graduate school', 'high school', 'none',\n",
        "                   'others', 'university', 'default payment next month', 'PAY_1']"
      ],
      "execution_count": 161,
      "outputs": []
    },
    {
      "cell_type": "code",
      "metadata": {
        "id": "h3QGSRSLdTAv",
        "colab_type": "code",
        "colab": {
          "base_uri": "https://localhost:8080/",
          "height": 289
        },
        "outputId": "9647e85a-9b5c-483e-bc8d-6f7d96466325"
      },
      "source": [
        "features_for_imputation = [item for item in features_for_imputation if item not in items_to_remove_2]\n",
        "features_for_imputation"
      ],
      "execution_count": 162,
      "outputs": [
        {
          "output_type": "execute_result",
          "data": {
            "text/plain": [
              "['LIMIT_BAL',\n",
              " 'EDUCATION',\n",
              " 'MARRIAGE',\n",
              " 'AGE',\n",
              " 'BILL_AMT1',\n",
              " 'BILL_AMT2',\n",
              " 'BILL_AMT3',\n",
              " 'BILL_AMT4',\n",
              " 'BILL_AMT5',\n",
              " 'BILL_AMT6',\n",
              " 'PAY_AMT1',\n",
              " 'PAY_AMT2',\n",
              " 'PAY_AMT3',\n",
              " 'PAY_AMT4',\n",
              " 'PAY_AMT5',\n",
              " 'PAY_AMT6']"
            ]
          },
          "metadata": {
            "tags": []
          },
          "execution_count": 162
        }
      ]
    },
    {
      "cell_type": "markdown",
      "metadata": {
        "id": "tQZ0aQDVdTAz",
        "colab_type": "text"
      },
      "source": [
        "##### Building a Multiclass Classification Model for Imputation"
      ]
    },
    {
      "cell_type": "code",
      "metadata": {
        "id": "hgm8XDq5dTA0",
        "colab_type": "code",
        "colab": {}
      },
      "source": [
        "X_impute_train, X_impute_test, y_impute_train, y_impute_test = \\\n",
        "train_test_split(\n",
        "    pay_1_df[features_for_imputation].values,\n",
        "    pay_1_df['PAY_1'].values,\n",
        "test_size=0.2, random_state=24)"
      ],
      "execution_count": 163,
      "outputs": []
    },
    {
      "cell_type": "code",
      "metadata": {
        "id": "FbJchRhjdTA3",
        "colab_type": "code",
        "colab": {}
      },
      "source": [
        "rf_impute_params = {'max_depth':[3, 6, 9, 12],\n",
        "             'n_estimators':[10, 50, 100, 200]}"
      ],
      "execution_count": 164,
      "outputs": []
    },
    {
      "cell_type": "code",
      "metadata": {
        "id": "l1HV9IArdTBD",
        "colab_type": "code",
        "colab": {}
      },
      "source": [
        "from sklearn.model_selection import GridSearchCV"
      ],
      "execution_count": 165,
      "outputs": []
    },
    {
      "cell_type": "markdown",
      "metadata": {
        "id": "E6ZKV9eldTBJ",
        "colab_type": "text"
      },
      "source": [
        "Need to use accuracy here as ROC AUC is not supported for multiclass. Need to use multiclass and not regression because need to limit to integer values of `PAY_1`."
      ]
    },
    {
      "cell_type": "code",
      "metadata": {
        "id": "7cpqJsnZdTBK",
        "colab_type": "code",
        "colab": {}
      },
      "source": [
        "cv_rf_impute = GridSearchCV(rf, param_grid=rf_impute_params, scoring='accuracy',\n",
        "                            n_jobs=-1, iid=False, refit=True,\n",
        "                            cv=4, verbose=2, error_score=np.nan, return_train_score=True)"
      ],
      "execution_count": 166,
      "outputs": []
    },
    {
      "cell_type": "code",
      "metadata": {
        "scrolled": true,
        "id": "WQZ1r_30dTBa",
        "colab_type": "code",
        "colab": {
          "base_uri": "https://localhost:8080/",
          "height": 513
        },
        "outputId": "c7ebd370-2d72-4a8c-e030-34e9e02413be"
      },
      "source": [
        "cv_rf_impute.fit(X_impute_train, y_impute_train)"
      ],
      "execution_count": 167,
      "outputs": [
        {
          "output_type": "stream",
          "text": [
            "Fitting 4 folds for each of 16 candidates, totalling 64 fits\n"
          ],
          "name": "stdout"
        },
        {
          "output_type": "stream",
          "text": [
            "[Parallel(n_jobs=-1)]: Using backend LokyBackend with 2 concurrent workers.\n",
            "[Parallel(n_jobs=-1)]: Done  37 tasks      | elapsed:   51.1s\n",
            "[Parallel(n_jobs=-1)]: Done  64 out of  64 | elapsed:  2.3min finished\n",
            "/usr/local/lib/python3.6/dist-packages/sklearn/model_selection/_search.py:823: FutureWarning: The parameter 'iid' is deprecated in 0.22 and will be removed in 0.24.\n",
            "  \"removed in 0.24.\", FutureWarning\n",
            "[Parallel(n_jobs=1)]: Using backend SequentialBackend with 1 concurrent workers.\n",
            "[Parallel(n_jobs=1)]: Done 200 out of 200 | elapsed:   11.9s finished\n"
          ],
          "name": "stderr"
        },
        {
          "output_type": "execute_result",
          "data": {
            "text/plain": [
              "GridSearchCV(cv=4, error_score=nan,\n",
              "             estimator=RandomForestClassifier(bootstrap=True, ccp_alpha=0.0,\n",
              "                                              class_weight=None,\n",
              "                                              criterion='gini', max_depth=9,\n",
              "                                              max_features='auto',\n",
              "                                              max_leaf_nodes=None,\n",
              "                                              max_samples=None,\n",
              "                                              min_impurity_decrease=0.0,\n",
              "                                              min_impurity_split=None,\n",
              "                                              min_samples_leaf=1,\n",
              "                                              min_samples_split=2,\n",
              "                                              min_weight_fraction_leaf=0.0,\n",
              "                                              n_estimators=200, n_jobs=None,\n",
              "                                              oob_score=False, random_state=4,\n",
              "                                              verbose=1, warm_start=False),\n",
              "             iid=False, n_jobs=-1,\n",
              "             param_grid={'max_depth': [3, 6, 9, 12],\n",
              "                         'n_estimators': [10, 50, 100, 200]},\n",
              "             pre_dispatch='2*n_jobs', refit=True, return_train_score=True,\n",
              "             scoring='accuracy', verbose=2)"
            ]
          },
          "metadata": {
            "tags": []
          },
          "execution_count": 167
        }
      ]
    },
    {
      "cell_type": "code",
      "metadata": {
        "scrolled": true,
        "id": "CtdtoAb7dTBh",
        "colab_type": "code",
        "colab": {
          "base_uri": "https://localhost:8080/",
          "height": 1000
        },
        "outputId": "f58393f1-b8b5-42cb-a219-3e8d0edf41f9"
      },
      "source": [
        "impute_df = pd.DataFrame(cv_rf_impute.cv_results_)\n",
        "impute_df"
      ],
      "execution_count": 168,
      "outputs": [
        {
          "output_type": "execute_result",
          "data": {
            "text/html": [
              "<div>\n",
              "<style scoped>\n",
              "    .dataframe tbody tr th:only-of-type {\n",
              "        vertical-align: middle;\n",
              "    }\n",
              "\n",
              "    .dataframe tbody tr th {\n",
              "        vertical-align: top;\n",
              "    }\n",
              "\n",
              "    .dataframe thead th {\n",
              "        text-align: right;\n",
              "    }\n",
              "</style>\n",
              "<table border=\"1\" class=\"dataframe\">\n",
              "  <thead>\n",
              "    <tr style=\"text-align: right;\">\n",
              "      <th></th>\n",
              "      <th>mean_fit_time</th>\n",
              "      <th>std_fit_time</th>\n",
              "      <th>mean_score_time</th>\n",
              "      <th>std_score_time</th>\n",
              "      <th>param_max_depth</th>\n",
              "      <th>param_n_estimators</th>\n",
              "      <th>params</th>\n",
              "      <th>split0_test_score</th>\n",
              "      <th>split1_test_score</th>\n",
              "      <th>split2_test_score</th>\n",
              "      <th>split3_test_score</th>\n",
              "      <th>mean_test_score</th>\n",
              "      <th>std_test_score</th>\n",
              "      <th>rank_test_score</th>\n",
              "      <th>split0_train_score</th>\n",
              "      <th>split1_train_score</th>\n",
              "      <th>split2_train_score</th>\n",
              "      <th>split3_train_score</th>\n",
              "      <th>mean_train_score</th>\n",
              "      <th>std_train_score</th>\n",
              "    </tr>\n",
              "  </thead>\n",
              "  <tbody>\n",
              "    <tr>\n",
              "      <th>0</th>\n",
              "      <td>0.220403</td>\n",
              "      <td>0.004469</td>\n",
              "      <td>0.011307</td>\n",
              "      <td>0.000305</td>\n",
              "      <td>3</td>\n",
              "      <td>10</td>\n",
              "      <td>{'max_depth': 3, 'n_estimators': 10}</td>\n",
              "      <td>0.664729</td>\n",
              "      <td>0.669417</td>\n",
              "      <td>0.671479</td>\n",
              "      <td>0.664291</td>\n",
              "      <td>0.667479</td>\n",
              "      <td>0.003061</td>\n",
              "      <td>15</td>\n",
              "      <td>0.669396</td>\n",
              "      <td>0.670146</td>\n",
              "      <td>0.665146</td>\n",
              "      <td>0.670042</td>\n",
              "      <td>0.668682</td>\n",
              "      <td>0.002062</td>\n",
              "    </tr>\n",
              "    <tr>\n",
              "      <th>1</th>\n",
              "      <td>1.081484</td>\n",
              "      <td>0.019188</td>\n",
              "      <td>0.047544</td>\n",
              "      <td>0.000619</td>\n",
              "      <td>3</td>\n",
              "      <td>50</td>\n",
              "      <td>{'max_depth': 3, 'n_estimators': 50}</td>\n",
              "      <td>0.657979</td>\n",
              "      <td>0.660229</td>\n",
              "      <td>0.660604</td>\n",
              "      <td>0.651350</td>\n",
              "      <td>0.657540</td>\n",
              "      <td>0.003712</td>\n",
              "      <td>16</td>\n",
              "      <td>0.664521</td>\n",
              "      <td>0.657145</td>\n",
              "      <td>0.654082</td>\n",
              "      <td>0.660854</td>\n",
              "      <td>0.659150</td>\n",
              "      <td>0.003920</td>\n",
              "    </tr>\n",
              "    <tr>\n",
              "      <th>2</th>\n",
              "      <td>2.137122</td>\n",
              "      <td>0.003811</td>\n",
              "      <td>0.095190</td>\n",
              "      <td>0.000885</td>\n",
              "      <td>3</td>\n",
              "      <td>100</td>\n",
              "      <td>{'max_depth': 3, 'n_estimators': 100}</td>\n",
              "      <td>0.672605</td>\n",
              "      <td>0.673542</td>\n",
              "      <td>0.675792</td>\n",
              "      <td>0.667854</td>\n",
              "      <td>0.672448</td>\n",
              "      <td>0.002894</td>\n",
              "      <td>13</td>\n",
              "      <td>0.677835</td>\n",
              "      <td>0.675147</td>\n",
              "      <td>0.670521</td>\n",
              "      <td>0.676167</td>\n",
              "      <td>0.674918</td>\n",
              "      <td>0.002713</td>\n",
              "    </tr>\n",
              "    <tr>\n",
              "      <th>3</th>\n",
              "      <td>4.265098</td>\n",
              "      <td>0.005883</td>\n",
              "      <td>0.189334</td>\n",
              "      <td>0.000229</td>\n",
              "      <td>3</td>\n",
              "      <td>200</td>\n",
              "      <td>{'max_depth': 3, 'n_estimators': 200}</td>\n",
              "      <td>0.664917</td>\n",
              "      <td>0.666042</td>\n",
              "      <td>0.675792</td>\n",
              "      <td>0.666354</td>\n",
              "      <td>0.668276</td>\n",
              "      <td>0.004372</td>\n",
              "      <td>14</td>\n",
              "      <td>0.672334</td>\n",
              "      <td>0.668896</td>\n",
              "      <td>0.669021</td>\n",
              "      <td>0.672605</td>\n",
              "      <td>0.670714</td>\n",
              "      <td>0.001758</td>\n",
              "    </tr>\n",
              "    <tr>\n",
              "      <th>4</th>\n",
              "      <td>0.360866</td>\n",
              "      <td>0.007615</td>\n",
              "      <td>0.012769</td>\n",
              "      <td>0.000198</td>\n",
              "      <td>6</td>\n",
              "      <td>10</td>\n",
              "      <td>{'max_depth': 6, 'n_estimators': 10}</td>\n",
              "      <td>0.710294</td>\n",
              "      <td>0.706919</td>\n",
              "      <td>0.713482</td>\n",
              "      <td>0.700675</td>\n",
              "      <td>0.707843</td>\n",
              "      <td>0.004744</td>\n",
              "      <td>12</td>\n",
              "      <td>0.717027</td>\n",
              "      <td>0.717027</td>\n",
              "      <td>0.718465</td>\n",
              "      <td>0.711607</td>\n",
              "      <td>0.716032</td>\n",
              "      <td>0.002621</td>\n",
              "    </tr>\n",
              "    <tr>\n",
              "      <th>5</th>\n",
              "      <td>1.828105</td>\n",
              "      <td>0.010616</td>\n",
              "      <td>0.055119</td>\n",
              "      <td>0.000869</td>\n",
              "      <td>6</td>\n",
              "      <td>50</td>\n",
              "      <td>{'max_depth': 6, 'n_estimators': 50}</td>\n",
              "      <td>0.708419</td>\n",
              "      <td>0.709732</td>\n",
              "      <td>0.713107</td>\n",
              "      <td>0.703863</td>\n",
              "      <td>0.708780</td>\n",
              "      <td>0.003314</td>\n",
              "      <td>11</td>\n",
              "      <td>0.716652</td>\n",
              "      <td>0.716090</td>\n",
              "      <td>0.719777</td>\n",
              "      <td>0.715982</td>\n",
              "      <td>0.717125</td>\n",
              "      <td>0.001552</td>\n",
              "    </tr>\n",
              "    <tr>\n",
              "      <th>6</th>\n",
              "      <td>3.670876</td>\n",
              "      <td>0.028356</td>\n",
              "      <td>0.108323</td>\n",
              "      <td>0.000418</td>\n",
              "      <td>6</td>\n",
              "      <td>100</td>\n",
              "      <td>{'max_depth': 6, 'n_estimators': 100}</td>\n",
              "      <td>0.709544</td>\n",
              "      <td>0.709544</td>\n",
              "      <td>0.714420</td>\n",
              "      <td>0.705926</td>\n",
              "      <td>0.709859</td>\n",
              "      <td>0.003019</td>\n",
              "      <td>10</td>\n",
              "      <td>0.718777</td>\n",
              "      <td>0.716777</td>\n",
              "      <td>0.719152</td>\n",
              "      <td>0.718420</td>\n",
              "      <td>0.718282</td>\n",
              "      <td>0.000906</td>\n",
              "    </tr>\n",
              "    <tr>\n",
              "      <th>7</th>\n",
              "      <td>7.342838</td>\n",
              "      <td>0.034874</td>\n",
              "      <td>0.218294</td>\n",
              "      <td>0.004217</td>\n",
              "      <td>6</td>\n",
              "      <td>200</td>\n",
              "      <td>{'max_depth': 6, 'n_estimators': 200}</td>\n",
              "      <td>0.710669</td>\n",
              "      <td>0.709357</td>\n",
              "      <td>0.715170</td>\n",
              "      <td>0.705551</td>\n",
              "      <td>0.710187</td>\n",
              "      <td>0.003436</td>\n",
              "      <td>9</td>\n",
              "      <td>0.719152</td>\n",
              "      <td>0.717652</td>\n",
              "      <td>0.719715</td>\n",
              "      <td>0.718107</td>\n",
              "      <td>0.718657</td>\n",
              "      <td>0.000818</td>\n",
              "    </tr>\n",
              "    <tr>\n",
              "      <th>8</th>\n",
              "      <td>0.516717</td>\n",
              "      <td>0.006061</td>\n",
              "      <td>0.014177</td>\n",
              "      <td>0.000517</td>\n",
              "      <td>9</td>\n",
              "      <td>10</td>\n",
              "      <td>{'max_depth': 9, 'n_estimators': 10}</td>\n",
              "      <td>0.719670</td>\n",
              "      <td>0.725858</td>\n",
              "      <td>0.721920</td>\n",
              "      <td>0.720743</td>\n",
              "      <td>0.722048</td>\n",
              "      <td>0.002339</td>\n",
              "      <td>7</td>\n",
              "      <td>0.767721</td>\n",
              "      <td>0.773722</td>\n",
              "      <td>0.767221</td>\n",
              "      <td>0.771611</td>\n",
              "      <td>0.770069</td>\n",
              "      <td>0.002709</td>\n",
              "    </tr>\n",
              "    <tr>\n",
              "      <th>9</th>\n",
              "      <td>2.579595</td>\n",
              "      <td>0.027015</td>\n",
              "      <td>0.063708</td>\n",
              "      <td>0.001961</td>\n",
              "      <td>9</td>\n",
              "      <td>50</td>\n",
              "      <td>{'max_depth': 9, 'n_estimators': 50}</td>\n",
              "      <td>0.726608</td>\n",
              "      <td>0.728296</td>\n",
              "      <td>0.725858</td>\n",
              "      <td>0.731808</td>\n",
              "      <td>0.728142</td>\n",
              "      <td>0.002293</td>\n",
              "      <td>6</td>\n",
              "      <td>0.770284</td>\n",
              "      <td>0.774347</td>\n",
              "      <td>0.771471</td>\n",
              "      <td>0.770611</td>\n",
              "      <td>0.771678</td>\n",
              "      <td>0.001601</td>\n",
              "    </tr>\n",
              "    <tr>\n",
              "      <th>10</th>\n",
              "      <td>5.161271</td>\n",
              "      <td>0.018506</td>\n",
              "      <td>0.124133</td>\n",
              "      <td>0.002076</td>\n",
              "      <td>9</td>\n",
              "      <td>100</td>\n",
              "      <td>{'max_depth': 9, 'n_estimators': 100}</td>\n",
              "      <td>0.728483</td>\n",
              "      <td>0.726608</td>\n",
              "      <td>0.725858</td>\n",
              "      <td>0.732371</td>\n",
              "      <td>0.728330</td>\n",
              "      <td>0.002521</td>\n",
              "      <td>5</td>\n",
              "      <td>0.770284</td>\n",
              "      <td>0.772534</td>\n",
              "      <td>0.775409</td>\n",
              "      <td>0.770298</td>\n",
              "      <td>0.772131</td>\n",
              "      <td>0.002103</td>\n",
              "    </tr>\n",
              "    <tr>\n",
              "      <th>11</th>\n",
              "      <td>10.336185</td>\n",
              "      <td>0.024894</td>\n",
              "      <td>0.246484</td>\n",
              "      <td>0.000246</td>\n",
              "      <td>9</td>\n",
              "      <td>200</td>\n",
              "      <td>{'max_depth': 9, 'n_estimators': 200}</td>\n",
              "      <td>0.729608</td>\n",
              "      <td>0.726983</td>\n",
              "      <td>0.726045</td>\n",
              "      <td>0.731808</td>\n",
              "      <td>0.728611</td>\n",
              "      <td>0.002261</td>\n",
              "      <td>4</td>\n",
              "      <td>0.771409</td>\n",
              "      <td>0.773472</td>\n",
              "      <td>0.775534</td>\n",
              "      <td>0.770361</td>\n",
              "      <td>0.772694</td>\n",
              "      <td>0.001986</td>\n",
              "    </tr>\n",
              "    <tr>\n",
              "      <th>12</th>\n",
              "      <td>0.648711</td>\n",
              "      <td>0.003864</td>\n",
              "      <td>0.016414</td>\n",
              "      <td>0.000457</td>\n",
              "      <td>12</td>\n",
              "      <td>10</td>\n",
              "      <td>{'max_depth': 12, 'n_estimators': 10}</td>\n",
              "      <td>0.721170</td>\n",
              "      <td>0.716670</td>\n",
              "      <td>0.719295</td>\n",
              "      <td>0.719617</td>\n",
              "      <td>0.719188</td>\n",
              "      <td>0.001618</td>\n",
              "      <td>8</td>\n",
              "      <td>0.835792</td>\n",
              "      <td>0.850919</td>\n",
              "      <td>0.845668</td>\n",
              "      <td>0.847053</td>\n",
              "      <td>0.844858</td>\n",
              "      <td>0.005577</td>\n",
              "    </tr>\n",
              "    <tr>\n",
              "      <th>13</th>\n",
              "      <td>3.277413</td>\n",
              "      <td>0.013684</td>\n",
              "      <td>0.073838</td>\n",
              "      <td>0.000770</td>\n",
              "      <td>12</td>\n",
              "      <td>50</td>\n",
              "      <td>{'max_depth': 12, 'n_estimators': 50}</td>\n",
              "      <td>0.734858</td>\n",
              "      <td>0.728858</td>\n",
              "      <td>0.729046</td>\n",
              "      <td>0.732558</td>\n",
              "      <td>0.731330</td>\n",
              "      <td>0.002514</td>\n",
              "      <td>3</td>\n",
              "      <td>0.854732</td>\n",
              "      <td>0.860983</td>\n",
              "      <td>0.862233</td>\n",
              "      <td>0.858741</td>\n",
              "      <td>0.859172</td>\n",
              "      <td>0.002853</td>\n",
              "    </tr>\n",
              "    <tr>\n",
              "      <th>14</th>\n",
              "      <td>6.532525</td>\n",
              "      <td>0.031510</td>\n",
              "      <td>0.146372</td>\n",
              "      <td>0.000720</td>\n",
              "      <td>12</td>\n",
              "      <td>100</td>\n",
              "      <td>{'max_depth': 12, 'n_estimators': 100}</td>\n",
              "      <td>0.731858</td>\n",
              "      <td>0.731296</td>\n",
              "      <td>0.731483</td>\n",
              "      <td>0.734246</td>\n",
              "      <td>0.732221</td>\n",
              "      <td>0.001187</td>\n",
              "      <td>2</td>\n",
              "      <td>0.858545</td>\n",
              "      <td>0.860545</td>\n",
              "      <td>0.864671</td>\n",
              "      <td>0.860116</td>\n",
              "      <td>0.860969</td>\n",
              "      <td>0.002263</td>\n",
              "    </tr>\n",
              "    <tr>\n",
              "      <th>15</th>\n",
              "      <td>13.056126</td>\n",
              "      <td>0.101566</td>\n",
              "      <td>0.284857</td>\n",
              "      <td>0.003069</td>\n",
              "      <td>12</td>\n",
              "      <td>200</td>\n",
              "      <td>{'max_depth': 12, 'n_estimators': 200}</td>\n",
              "      <td>0.734858</td>\n",
              "      <td>0.731858</td>\n",
              "      <td>0.733546</td>\n",
              "      <td>0.737434</td>\n",
              "      <td>0.734424</td>\n",
              "      <td>0.002037</td>\n",
              "      <td>1</td>\n",
              "      <td>0.858920</td>\n",
              "      <td>0.861608</td>\n",
              "      <td>0.863358</td>\n",
              "      <td>0.861554</td>\n",
              "      <td>0.861360</td>\n",
              "      <td>0.001585</td>\n",
              "    </tr>\n",
              "  </tbody>\n",
              "</table>\n",
              "</div>"
            ],
            "text/plain": [
              "    mean_fit_time  std_fit_time  ...  mean_train_score  std_train_score\n",
              "0        0.220403      0.004469  ...          0.668682         0.002062\n",
              "1        1.081484      0.019188  ...          0.659150         0.003920\n",
              "2        2.137122      0.003811  ...          0.674918         0.002713\n",
              "3        4.265098      0.005883  ...          0.670714         0.001758\n",
              "4        0.360866      0.007615  ...          0.716032         0.002621\n",
              "5        1.828105      0.010616  ...          0.717125         0.001552\n",
              "6        3.670876      0.028356  ...          0.718282         0.000906\n",
              "7        7.342838      0.034874  ...          0.718657         0.000818\n",
              "8        0.516717      0.006061  ...          0.770069         0.002709\n",
              "9        2.579595      0.027015  ...          0.771678         0.001601\n",
              "10       5.161271      0.018506  ...          0.772131         0.002103\n",
              "11      10.336185      0.024894  ...          0.772694         0.001986\n",
              "12       0.648711      0.003864  ...          0.844858         0.005577\n",
              "13       3.277413      0.013684  ...          0.859172         0.002853\n",
              "14       6.532525      0.031510  ...          0.860969         0.002263\n",
              "15      13.056126      0.101566  ...          0.861360         0.001585\n",
              "\n",
              "[16 rows x 20 columns]"
            ]
          },
          "metadata": {
            "tags": []
          },
          "execution_count": 168
        }
      ]
    },
    {
      "cell_type": "code",
      "metadata": {
        "id": "pZzZQUUGdTBq",
        "colab_type": "code",
        "colab": {
          "base_uri": "https://localhost:8080/",
          "height": 34
        },
        "outputId": "e5853611-d1bf-43c7-a7ae-9c6c9171dde0"
      },
      "source": [
        "cv_rf_impute.best_params_\n",
        "# {'max_depth': 12, 'n_estimators': 100}"
      ],
      "execution_count": 169,
      "outputs": [
        {
          "output_type": "execute_result",
          "data": {
            "text/plain": [
              "{'max_depth': 12, 'n_estimators': 200}"
            ]
          },
          "metadata": {
            "tags": []
          },
          "execution_count": 169
        }
      ]
    },
    {
      "cell_type": "code",
      "metadata": {
        "id": "QKdtScsGdTCA",
        "colab_type": "code",
        "colab": {
          "base_uri": "https://localhost:8080/",
          "height": 34
        },
        "outputId": "fbf6d04a-d8b7-4817-e6bb-2ba059ceeece"
      },
      "source": [
        "cv_rf_impute.best_score_\n",
        "# 0.7337676389523727"
      ],
      "execution_count": 170,
      "outputs": [
        {
          "output_type": "execute_result",
          "data": {
            "text/plain": [
              "0.7344242187492307"
            ]
          },
          "metadata": {
            "tags": []
          },
          "execution_count": 170
        }
      ]
    },
    {
      "cell_type": "code",
      "metadata": {
        "id": "rhge9fVedTCE",
        "colab_type": "code",
        "colab": {}
      },
      "source": [
        "pay_1_value_counts = pay_1_df['PAY_1'].value_counts().sort_index()"
      ],
      "execution_count": 171,
      "outputs": []
    },
    {
      "cell_type": "code",
      "metadata": {
        "id": "1PS-wj7ydTCH",
        "colab_type": "code",
        "colab": {
          "base_uri": "https://localhost:8080/",
          "height": 221
        },
        "outputId": "e40184b7-b657-41e0-c3e2-bbe7986f8a0e"
      },
      "source": [
        "pay_1_value_counts"
      ],
      "execution_count": 172,
      "outputs": [
        {
          "output_type": "execute_result",
          "data": {
            "text/plain": [
              "-2     2476\n",
              "-1     5047\n",
              " 0    13087\n",
              " 1     3261\n",
              " 2     2378\n",
              " 3      292\n",
              " 4       63\n",
              " 5       23\n",
              " 6       11\n",
              " 7        9\n",
              " 8       17\n",
              "Name: PAY_1, dtype: int64"
            ]
          },
          "metadata": {
            "tags": []
          },
          "execution_count": 172
        }
      ]
    },
    {
      "cell_type": "code",
      "metadata": {
        "id": "eT0--EZ5dTCL",
        "colab_type": "code",
        "colab": {
          "base_uri": "https://localhost:8080/",
          "height": 221
        },
        "outputId": "5030db89-65c3-490f-ebc0-9c67d0072c7c"
      },
      "source": [
        "pay_1_value_counts/pay_1_value_counts.sum()"
      ],
      "execution_count": 173,
      "outputs": [
        {
          "output_type": "execute_result",
          "data": {
            "text/plain": [
              "-2    0.092859\n",
              "-1    0.189281\n",
              " 0    0.490812\n",
              " 1    0.122300\n",
              " 2    0.089184\n",
              " 3    0.010951\n",
              " 4    0.002363\n",
              " 5    0.000863\n",
              " 6    0.000413\n",
              " 7    0.000338\n",
              " 8    0.000638\n",
              "Name: PAY_1, dtype: float64"
            ]
          },
          "metadata": {
            "tags": []
          },
          "execution_count": 173
        }
      ]
    },
    {
      "cell_type": "code",
      "metadata": {
        "id": "dyfljAFhdTCO",
        "colab_type": "code",
        "colab": {
          "base_uri": "https://localhost:8080/",
          "height": 51
        },
        "outputId": "64f0af2e-8024-4903-e84a-0323a893dad1"
      },
      "source": [
        "y_impute_predict = cv_rf_impute.predict(X_impute_test)"
      ],
      "execution_count": 174,
      "outputs": [
        {
          "output_type": "stream",
          "text": [
            "[Parallel(n_jobs=1)]: Using backend SequentialBackend with 1 concurrent workers.\n",
            "[Parallel(n_jobs=1)]: Done 200 out of 200 | elapsed:    0.2s finished\n"
          ],
          "name": "stderr"
        }
      ]
    },
    {
      "cell_type": "code",
      "metadata": {
        "id": "0fzs14Q_dTCU",
        "colab_type": "code",
        "colab": {}
      },
      "source": [
        "from sklearn import metrics"
      ],
      "execution_count": 175,
      "outputs": []
    },
    {
      "cell_type": "code",
      "metadata": {
        "id": "tgU8ctHMdTCX",
        "colab_type": "code",
        "colab": {
          "base_uri": "https://localhost:8080/",
          "height": 34
        },
        "outputId": "390a2f1c-7768-4498-fead-a3c1312ca747"
      },
      "source": [
        "metrics.accuracy_score(y_impute_test, y_impute_predict)"
      ],
      "execution_count": 176,
      "outputs": [
        {
          "output_type": "execute_result",
          "data": {
            "text/plain": [
              "0.7391711981998875"
            ]
          },
          "metadata": {
            "tags": []
          },
          "execution_count": 176
        }
      ]
    },
    {
      "cell_type": "code",
      "metadata": {
        "id": "WPC9LDmVdTCc",
        "colab_type": "code",
        "colab": {
          "base_uri": "https://localhost:8080/",
          "height": 307
        },
        "outputId": "de15a7ed-d575-4087-9df2-2ff65b0fee53"
      },
      "source": [
        "fig, axs = plt.subplots(1,2, figsize=(8,3))\n",
        "axs[0].hist(y_impute_test, bins=bin_edges, align='left')\n",
        "axs[0].set_xticks(bin_edges)\n",
        "axs[0].set_title('Non-missing values of PAY_1')\n",
        "axs[1].hist(y_impute_predict, bins=bin_edges, align='left')\n",
        "axs[1].set_xticks(bin_edges)\n",
        "axs[1].set_title('Model-based imputation')\n",
        "plt.tight_layout()"
      ],
      "execution_count": 177,
      "outputs": [
        {
          "output_type": "display_data",
          "data": {
            "image/png": "[encoded data removed]",
            "text/plain": [
              "<Figure size 800x300 with 2 Axes>"
            ]
          },
          "metadata": {
            "tags": [],
            "needs_background": "light"
          }
        }
      ]
    },
    {
      "cell_type": "code",
      "metadata": {
        "id": "_wMROFEadTCg",
        "colab_type": "code",
        "colab": {}
      },
      "source": [
        "X_impute_all = pay_1_df[features_for_imputation].values\n",
        "y_impute_all = pay_1_df['PAY_1'].values"
      ],
      "execution_count": 178,
      "outputs": []
    },
    {
      "cell_type": "code",
      "metadata": {
        "id": "5maywC4adTCi",
        "colab_type": "code",
        "colab": {}
      },
      "source": [
        "rf_impute = RandomForestClassifier(n_estimators=100, max_depth=12)"
      ],
      "execution_count": 179,
      "outputs": []
    },
    {
      "cell_type": "code",
      "metadata": {
        "id": "kBmiM9emdTCk",
        "colab_type": "code",
        "colab": {
          "base_uri": "https://localhost:8080/",
          "height": 153
        },
        "outputId": "90ced50b-ae17-45d2-d4ce-1ad9a2a9b9a9"
      },
      "source": [
        "rf_impute"
      ],
      "execution_count": 180,
      "outputs": [
        {
          "output_type": "execute_result",
          "data": {
            "text/plain": [
              "RandomForestClassifier(bootstrap=True, ccp_alpha=0.0, class_weight=None,\n",
              "                       criterion='gini', max_depth=12, max_features='auto',\n",
              "                       max_leaf_nodes=None, max_samples=None,\n",
              "                       min_impurity_decrease=0.0, min_impurity_split=None,\n",
              "                       min_samples_leaf=1, min_samples_split=2,\n",
              "                       min_weight_fraction_leaf=0.0, n_estimators=100,\n",
              "                       n_jobs=None, oob_score=False, random_state=None,\n",
              "                       verbose=0, warm_start=False)"
            ]
          },
          "metadata": {
            "tags": []
          },
          "execution_count": 180
        }
      ]
    },
    {
      "cell_type": "code",
      "metadata": {
        "id": "JPfwHJCRdTCn",
        "colab_type": "code",
        "colab": {
          "base_uri": "https://localhost:8080/",
          "height": 153
        },
        "outputId": "9f5b8f91-0c13-462c-ed05-9b4274ae880d"
      },
      "source": [
        "rf_impute.fit(X_impute_all, y_impute_all)"
      ],
      "execution_count": 181,
      "outputs": [
        {
          "output_type": "execute_result",
          "data": {
            "text/plain": [
              "RandomForestClassifier(bootstrap=True, ccp_alpha=0.0, class_weight=None,\n",
              "                       criterion='gini', max_depth=12, max_features='auto',\n",
              "                       max_leaf_nodes=None, max_samples=None,\n",
              "                       min_impurity_decrease=0.0, min_impurity_split=None,\n",
              "                       min_samples_leaf=1, min_samples_split=2,\n",
              "                       min_weight_fraction_leaf=0.0, n_estimators=100,\n",
              "                       n_jobs=None, oob_score=False, random_state=None,\n",
              "                       verbose=0, warm_start=False)"
            ]
          },
          "metadata": {
            "tags": []
          },
          "execution_count": 181
        }
      ]
    },
    {
      "cell_type": "markdown",
      "metadata": {
        "id": "K-P9x6TAdTCr",
        "colab_type": "text"
      },
      "source": [
        "##### Using the Imputation Model and Comparing it to Other Methods"
      ]
    },
    {
      "cell_type": "code",
      "metadata": {
        "id": "PPyKglk4dTCs",
        "colab_type": "code",
        "colab": {}
      },
      "source": [
        "df_fill_pay_1_model = df_missing_pay_1.copy()"
      ],
      "execution_count": 182,
      "outputs": []
    },
    {
      "cell_type": "code",
      "metadata": {
        "id": "ZNMy-ow1dTC0",
        "colab_type": "code",
        "colab": {
          "base_uri": "https://localhost:8080/",
          "height": 119
        },
        "outputId": "13a6f294-4a81-4306-f63c-1b46f1bf46c9"
      },
      "source": [
        "df_fill_pay_1_model['PAY_1'].head()"
      ],
      "execution_count": 183,
      "outputs": [
        {
          "output_type": "execute_result",
          "data": {
            "text/plain": [
              "17    Not available\n",
              "28    Not available\n",
              "29    Not available\n",
              "54    Not available\n",
              "60    Not available\n",
              "Name: PAY_1, dtype: object"
            ]
          },
          "metadata": {
            "tags": []
          },
          "execution_count": 183
        }
      ]
    },
    {
      "cell_type": "code",
      "metadata": {
        "id": "lE1eIBjrdTC2",
        "colab_type": "code",
        "colab": {}
      },
      "source": [
        "df_fill_pay_1_model['PAY_1'] = rf_impute.predict(df_fill_pay_1_model[features_for_imputation].values)"
      ],
      "execution_count": 184,
      "outputs": []
    },
    {
      "cell_type": "code",
      "metadata": {
        "id": "eNXRzwQadTDC",
        "colab_type": "code",
        "colab": {
          "base_uri": "https://localhost:8080/",
          "height": 119
        },
        "outputId": "76c16f32-00f8-400c-9fab-b2db9b1a7f7c"
      },
      "source": [
        "df_fill_pay_1_model['PAY_1'].head()"
      ],
      "execution_count": 185,
      "outputs": [
        {
          "output_type": "execute_result",
          "data": {
            "text/plain": [
              "17    0\n",
              "28   -1\n",
              "29    0\n",
              "54    0\n",
              "60    0\n",
              "Name: PAY_1, dtype: int64"
            ]
          },
          "metadata": {
            "tags": []
          },
          "execution_count": 185
        }
      ]
    },
    {
      "cell_type": "code",
      "metadata": {
        "id": "Ql6t_qoBdTDF",
        "colab_type": "code",
        "colab": {
          "base_uri": "https://localhost:8080/",
          "height": 187
        },
        "outputId": "d31c7f6f-db12-4eb3-a66f-7d383184d207"
      },
      "source": [
        "df_fill_pay_1_model['PAY_1'].value_counts().sort_index()"
      ],
      "execution_count": 186,
      "outputs": [
        {
          "output_type": "execute_result",
          "data": {
            "text/plain": [
              "-2      30\n",
              "-1     763\n",
              " 0    1715\n",
              " 1     438\n",
              " 2      64\n",
              " 3       7\n",
              " 4       2\n",
              " 6       1\n",
              " 8       1\n",
              "Name: PAY_1, dtype: int64"
            ]
          },
          "metadata": {
            "tags": []
          },
          "execution_count": 186
        }
      ]
    },
    {
      "cell_type": "code",
      "metadata": {
        "id": "uEspuqXfdTDI",
        "colab_type": "code",
        "colab": {}
      },
      "source": [
        "X_fill_pay_1_train, X_fill_pay_1_test, y_fill_pay_1_train, y_fill_pay_1_test = \\\n",
        "train_test_split(\n",
        "    df_fill_pay_1_model[features_response[:-1]].values,\n",
        "    df_fill_pay_1_model['default payment next month'].values,\n",
        "test_size=0.2, random_state=24)"
      ],
      "execution_count": 187,
      "outputs": []
    },
    {
      "cell_type": "code",
      "metadata": {
        "id": "ix0kxEPjdTDM",
        "colab_type": "code",
        "colab": {
          "base_uri": "https://localhost:8080/",
          "height": 85
        },
        "outputId": "785825c4-6e30-4bff-9505-90321c2b9e88"
      },
      "source": [
        "print(X_fill_pay_1_train.shape)\n",
        "print(X_fill_pay_1_test.shape)\n",
        "print(y_fill_pay_1_train.shape)\n",
        "print(y_fill_pay_1_test.shape)"
      ],
      "execution_count": 188,
      "outputs": [
        {
          "output_type": "stream",
          "text": [
            "(2416, 17)\n",
            "(605, 17)\n",
            "(2416,)\n",
            "(605,)\n"
          ],
          "name": "stdout"
        }
      ]
    },
    {
      "cell_type": "code",
      "metadata": {
        "id": "W-gaNNmUdTDW",
        "colab_type": "code",
        "colab": {}
      },
      "source": [
        "X_train_all = np.concatenate((X_train, X_fill_pay_1_train), axis=0)\n",
        "y_train_all = np.concatenate((y_train, y_fill_pay_1_train), axis=0)"
      ],
      "execution_count": 189,
      "outputs": []
    },
    {
      "cell_type": "code",
      "metadata": {
        "id": "sO0FgWb2dTDb",
        "colab_type": "code",
        "colab": {
          "base_uri": "https://localhost:8080/",
          "height": 51
        },
        "outputId": "04c6941e-547a-42e3-80e2-e5795bb8ac4d"
      },
      "source": [
        "print(X_train_all.shape)\n",
        "print(y_train_all.shape)"
      ],
      "execution_count": 190,
      "outputs": [
        {
          "output_type": "stream",
          "text": [
            "(23747, 17)\n",
            "(23747,)\n"
          ],
          "name": "stdout"
        }
      ]
    },
    {
      "cell_type": "code",
      "metadata": {
        "id": "vZPYeLJRdTDg",
        "colab_type": "code",
        "colab": {
          "base_uri": "https://localhost:8080/",
          "height": 153
        },
        "outputId": "2883edc7-f723-4607-f1fe-0fcde73113c1"
      },
      "source": [
        "rf"
      ],
      "execution_count": 191,
      "outputs": [
        {
          "output_type": "execute_result",
          "data": {
            "text/plain": [
              "RandomForestClassifier(bootstrap=True, ccp_alpha=0.0, class_weight=None,\n",
              "                       criterion='gini', max_depth=9, max_features='auto',\n",
              "                       max_leaf_nodes=None, max_samples=None,\n",
              "                       min_impurity_decrease=0.0, min_impurity_split=None,\n",
              "                       min_samples_leaf=1, min_samples_split=2,\n",
              "                       min_weight_fraction_leaf=0.0, n_estimators=200,\n",
              "                       n_jobs=None, oob_score=False, random_state=4, verbose=1,\n",
              "                       warm_start=False)"
            ]
          },
          "metadata": {
            "tags": []
          },
          "execution_count": 191
        }
      ]
    },
    {
      "cell_type": "code",
      "metadata": {
        "id": "s4g_uxfQdTDj",
        "colab_type": "code",
        "colab": {
          "base_uri": "https://localhost:8080/",
          "height": 51
        },
        "outputId": "29532dee-dc48-46e5-c2b6-ad4ba895a389"
      },
      "source": [
        "imputation_compare_cv = cross_validate(rf, X_train_all, y_train_all, scoring='roc_auc',\n",
        "                                       cv=k_folds, n_jobs=-1, verbose=1,\n",
        "                                       return_train_score=True, return_estimator=True,\n",
        "                                       error_score='raise-deprecating')"
      ],
      "execution_count": 192,
      "outputs": [
        {
          "output_type": "stream",
          "text": [
            "[Parallel(n_jobs=-1)]: Using backend LokyBackend with 2 concurrent workers.\n",
            "[Parallel(n_jobs=-1)]: Done   4 out of   4 | elapsed:   22.0s finished\n"
          ],
          "name": "stderr"
        }
      ]
    },
    {
      "cell_type": "code",
      "metadata": {
        "id": "sFo_3ce5dTDn",
        "colab_type": "code",
        "colab": {
          "base_uri": "https://localhost:8080/",
          "height": 34
        },
        "outputId": "99cbe1b2-4a31-4d24-ca1a-351cb62c5f53"
      },
      "source": [
        "imputation_compare_cv['test_score']\n",
        "# array([0.76890992, 0.77309591, 0.77166336, 0.77703366])"
      ],
      "execution_count": 193,
      "outputs": [
        {
          "output_type": "execute_result",
          "data": {
            "text/plain": [
              "array([0.76890992, 0.77309591, 0.77166336, 0.77703366])"
            ]
          },
          "metadata": {
            "tags": []
          },
          "execution_count": 193
        }
      ]
    },
    {
      "cell_type": "code",
      "metadata": {
        "id": "8ma7KldxdTDp",
        "colab_type": "code",
        "colab": {
          "base_uri": "https://localhost:8080/",
          "height": 34
        },
        "outputId": "968890c5-687e-4933-89a7-6061b70f71f8"
      },
      "source": [
        "np.mean(imputation_compare_cv['test_score'])\n",
        "# 0.7726757126815554"
      ],
      "execution_count": 194,
      "outputs": [
        {
          "output_type": "execute_result",
          "data": {
            "text/plain": [
              "0.7726757126815554"
            ]
          },
          "metadata": {
            "tags": []
          },
          "execution_count": 194
        }
      ]
    },
    {
      "cell_type": "code",
      "metadata": {
        "id": "2-rrRngddTDu",
        "colab_type": "code",
        "colab": {
          "base_uri": "https://localhost:8080/",
          "height": 34
        },
        "outputId": "561447db-cb5a-469e-b276-d293ca11ae3d"
      },
      "source": [
        "np.std(imputation_compare_cv['test_score'])\n",
        "# 0.002931480680760725"
      ],
      "execution_count": 195,
      "outputs": [
        {
          "output_type": "execute_result",
          "data": {
            "text/plain": [
              "0.002931480680760725"
            ]
          },
          "metadata": {
            "tags": []
          },
          "execution_count": 195
        }
      ]
    },
    {
      "cell_type": "markdown",
      "metadata": {
        "id": "K_lyQVwLdTD0",
        "colab_type": "text"
      },
      "source": [
        "Reassign values using mode imputation"
      ]
    },
    {
      "cell_type": "code",
      "metadata": {
        "id": "TtTpjzsudTD0",
        "colab_type": "code",
        "colab": {}
      },
      "source": [
        "df_fill_pay_1_model['PAY_1'] = np.zeros_like(df_fill_pay_1_model['PAY_1'].values)"
      ],
      "execution_count": 196,
      "outputs": []
    },
    {
      "cell_type": "code",
      "metadata": {
        "id": "2gVUfvm3dTD3",
        "colab_type": "code",
        "colab": {
          "base_uri": "https://localhost:8080/",
          "height": 34
        },
        "outputId": "c9956233-3a20-4e90-e421-a8ad413a2c03"
      },
      "source": [
        "df_fill_pay_1_model['PAY_1'].unique()"
      ],
      "execution_count": 197,
      "outputs": [
        {
          "output_type": "execute_result",
          "data": {
            "text/plain": [
              "array([0])"
            ]
          },
          "metadata": {
            "tags": []
          },
          "execution_count": 197
        }
      ]
    },
    {
      "cell_type": "code",
      "metadata": {
        "id": "m7YZqqObdTD7",
        "colab_type": "code",
        "colab": {}
      },
      "source": [
        "X_fill_pay_1_train, X_fill_pay_1_test, y_fill_pay_1_train, y_fill_pay_1_test = \\\n",
        "train_test_split(\n",
        "    df_fill_pay_1_model[features_response[:-1]].values,\n",
        "    df_fill_pay_1_model['default payment next month'].values,\n",
        "test_size=0.2, random_state=24)"
      ],
      "execution_count": 198,
      "outputs": []
    },
    {
      "cell_type": "code",
      "metadata": {
        "id": "CEtYK9jvdTD-",
        "colab_type": "code",
        "colab": {}
      },
      "source": [
        "X_train_all = np.concatenate((X_train, X_fill_pay_1_train), axis=0)\n",
        "X_test_all = np.concatenate((X_test, X_fill_pay_1_test), axis=0)\n",
        "y_train_all = np.concatenate((y_train, y_fill_pay_1_train), axis=0)\n",
        "y_test_all = np.concatenate((y_test, y_fill_pay_1_test), axis=0)"
      ],
      "execution_count": 199,
      "outputs": []
    },
    {
      "cell_type": "code",
      "metadata": {
        "id": "nn5vzOgLdTEA",
        "colab_type": "code",
        "colab": {
          "base_uri": "https://localhost:8080/",
          "height": 85
        },
        "outputId": "9c154690-5f83-489a-e320-f79c1da5c1b2"
      },
      "source": [
        "print(X_train_all.shape)\n",
        "print(X_test_all.shape)\n",
        "print(y_train_all.shape)\n",
        "print(y_test_all.shape)"
      ],
      "execution_count": 200,
      "outputs": [
        {
          "output_type": "stream",
          "text": [
            "(23747, 17)\n",
            "(5938, 17)\n",
            "(23747,)\n",
            "(5938,)\n"
          ],
          "name": "stdout"
        }
      ]
    },
    {
      "cell_type": "code",
      "metadata": {
        "id": "CpT4jWHqdTEE",
        "colab_type": "code",
        "colab": {
          "base_uri": "https://localhost:8080/",
          "height": 51
        },
        "outputId": "9f15f6cb-5b99-49b3-d112-ffb2f5776698"
      },
      "source": [
        "imputation_compare_cv = cross_validate(rf, X_train_all, y_train_all, scoring='roc_auc',\n",
        "                                       cv=k_folds, n_jobs=-1, verbose=1,\n",
        "                                       return_train_score=True, return_estimator=True,\n",
        "                                       error_score='raise-deprecating')"
      ],
      "execution_count": 201,
      "outputs": [
        {
          "output_type": "stream",
          "text": [
            "[Parallel(n_jobs=-1)]: Using backend LokyBackend with 2 concurrent workers.\n",
            "[Parallel(n_jobs=-1)]: Done   4 out of   4 | elapsed:   22.0s finished\n"
          ],
          "name": "stderr"
        }
      ]
    },
    {
      "cell_type": "code",
      "metadata": {
        "id": "gPwviZV4dTEG",
        "colab_type": "code",
        "colab": {
          "base_uri": "https://localhost:8080/",
          "height": 34
        },
        "outputId": "50187cab-75a7-4532-9237-09ac68ee1676"
      },
      "source": [
        "np.mean(imputation_compare_cv['test_score'])"
      ],
      "execution_count": 202,
      "outputs": [
        {
          "output_type": "execute_result",
          "data": {
            "text/plain": [
              "0.772866246168149"
            ]
          },
          "metadata": {
            "tags": []
          },
          "execution_count": 202
        }
      ]
    },
    {
      "cell_type": "markdown",
      "metadata": {
        "id": "hn6fjwQEdTEJ",
        "colab_type": "text"
      },
      "source": [
        "##### Confirming Model Performance on the Unseen Test Set"
      ]
    },
    {
      "cell_type": "code",
      "metadata": {
        "id": "2ZdFZPZIdTEJ",
        "colab_type": "code",
        "colab": {
          "base_uri": "https://localhost:8080/",
          "height": 187
        },
        "outputId": "ed2696b2-f47a-4b8d-84b8-3de3a570021f"
      },
      "source": [
        "rf.fit(X_train_all, y_train_all)"
      ],
      "execution_count": 203,
      "outputs": [
        {
          "output_type": "stream",
          "text": [
            "[Parallel(n_jobs=1)]: Using backend SequentialBackend with 1 concurrent workers.\n",
            "[Parallel(n_jobs=1)]: Done 200 out of 200 | elapsed:    9.2s finished\n"
          ],
          "name": "stderr"
        },
        {
          "output_type": "execute_result",
          "data": {
            "text/plain": [
              "RandomForestClassifier(bootstrap=True, ccp_alpha=0.0, class_weight=None,\n",
              "                       criterion='gini', max_depth=9, max_features='auto',\n",
              "                       max_leaf_nodes=None, max_samples=None,\n",
              "                       min_impurity_decrease=0.0, min_impurity_split=None,\n",
              "                       min_samples_leaf=1, min_samples_split=2,\n",
              "                       min_weight_fraction_leaf=0.0, n_estimators=200,\n",
              "                       n_jobs=None, oob_score=False, random_state=4, verbose=1,\n",
              "                       warm_start=False)"
            ]
          },
          "metadata": {
            "tags": []
          },
          "execution_count": 203
        }
      ]
    },
    {
      "cell_type": "code",
      "metadata": {
        "id": "Tb0wO51VdTEL",
        "colab_type": "code",
        "colab": {
          "base_uri": "https://localhost:8080/",
          "height": 51
        },
        "outputId": "1827500e-93a7-43f6-b045-33d9201e45c4"
      },
      "source": [
        "y_test_all_predict_proba = rf.predict_proba(X_test_all)"
      ],
      "execution_count": 204,
      "outputs": [
        {
          "output_type": "stream",
          "text": [
            "[Parallel(n_jobs=1)]: Using backend SequentialBackend with 1 concurrent workers.\n",
            "[Parallel(n_jobs=1)]: Done 200 out of 200 | elapsed:    0.1s finished\n"
          ],
          "name": "stderr"
        }
      ]
    },
    {
      "cell_type": "code",
      "metadata": {
        "id": "uWmkDoD_dTEO",
        "colab_type": "code",
        "colab": {}
      },
      "source": [
        "from sklearn.metrics import roc_auc_score"
      ],
      "execution_count": 205,
      "outputs": []
    },
    {
      "cell_type": "code",
      "metadata": {
        "id": "QH0IQwK_dTEQ",
        "colab_type": "code",
        "colab": {
          "base_uri": "https://localhost:8080/",
          "height": 34
        },
        "outputId": "ad53f07d-8209-4d89-8dfe-c5f9f0bbdd1a"
      },
      "source": [
        "roc_auc_score(y_test_all, y_test_all_predict_proba[:,1])\n",
        "# 0.7696243835824927"
      ],
      "execution_count": 206,
      "outputs": [
        {
          "output_type": "execute_result",
          "data": {
            "text/plain": [
              "0.7696243835824927"
            ]
          },
          "metadata": {
            "tags": []
          },
          "execution_count": 206
        }
      ]
    },
    {
      "cell_type": "markdown",
      "metadata": {
        "id": "EzQ5IiYLdTES",
        "colab_type": "text"
      },
      "source": [
        "##### Characterizing Costs and Savings"
      ]
    },
    {
      "cell_type": "code",
      "metadata": {
        "id": "UewUgOtFdTES",
        "colab_type": "code",
        "colab": {}
      },
      "source": [
        "thresholds = np.linspace(0, 1, 101)"
      ],
      "execution_count": 207,
      "outputs": []
    },
    {
      "cell_type": "markdown",
      "metadata": {
        "id": "DSyQFXZVdTEV",
        "colab_type": "text"
      },
      "source": [
        "Use mean bill amount to estimate savings per prevented default"
      ]
    },
    {
      "cell_type": "code",
      "metadata": {
        "id": "ZcEhrLS5dTEV",
        "colab_type": "code",
        "colab": {
          "base_uri": "https://localhost:8080/",
          "height": 35
        },
        "outputId": "0eb91a33-91e8-408a-9289-92e7222b9ac8"
      },
      "source": [
        "df[features_response[:-1]].columns[5]"
      ],
      "execution_count": 208,
      "outputs": [
        {
          "output_type": "execute_result",
          "data": {
            "application/vnd.google.colaboratory.intrinsic+json": {
              "type": "string"
            },
            "text/plain": [
              "'BILL_AMT1'"
            ]
          },
          "metadata": {
            "tags": []
          },
          "execution_count": 208
        }
      ]
    },
    {
      "cell_type": "code",
      "metadata": {
        "id": "rJjQ964gdTEa",
        "colab_type": "code",
        "colab": {
          "base_uri": "https://localhost:8080/",
          "height": 34
        },
        "outputId": "2d78899a-b10b-4173-b7ab-d63f8f49490b"
      },
      "source": [
        "savings_per_default = np.mean(X_test_all[:, 5])\n",
        "savings_per_default\n",
        "# 51601.7433479286"
      ],
      "execution_count": 209,
      "outputs": [
        {
          "output_type": "execute_result",
          "data": {
            "text/plain": [
              "51601.7433479286"
            ]
          },
          "metadata": {
            "tags": []
          },
          "execution_count": 209
        }
      ]
    },
    {
      "cell_type": "code",
      "metadata": {
        "id": "_jZQakKwdTEe",
        "colab_type": "code",
        "colab": {}
      },
      "source": [
        "cost_per_counseling = 7500"
      ],
      "execution_count": 210,
      "outputs": []
    },
    {
      "cell_type": "code",
      "metadata": {
        "id": "tL1wKN1PdTEj",
        "colab_type": "code",
        "colab": {}
      },
      "source": [
        "effectiveness = 0.70"
      ],
      "execution_count": 211,
      "outputs": []
    },
    {
      "cell_type": "code",
      "metadata": {
        "id": "vIcD-NCudTEn",
        "colab_type": "code",
        "colab": {}
      },
      "source": [
        "n_pos_pred = np.empty_like(thresholds)\n",
        "cost_of_all_counselings = np.empty_like(thresholds)\n",
        "n_true_pos = np.empty_like(thresholds)\n",
        "savings_of_all_counselings = np.empty_like(thresholds)"
      ],
      "execution_count": 212,
      "outputs": []
    },
    {
      "cell_type": "code",
      "metadata": {
        "id": "aYIank1ydTEq",
        "colab_type": "code",
        "colab": {}
      },
      "source": [
        "counter = 0\n",
        "for threshold in thresholds:\n",
        "    pos_pred = y_test_all_predict_proba[:,1]>threshold\n",
        "    n_pos_pred[counter] = sum(pos_pred)\n",
        "    cost_of_all_counselings[counter] = n_pos_pred[counter] * cost_per_counseling\n",
        "    true_pos = pos_pred & y_test_all.astype(bool)\n",
        "    n_true_pos[counter] = sum(true_pos)\n",
        "    savings_of_all_counselings[counter] = n_true_pos[counter] * savings_per_default * effectiveness\n",
        "    \n",
        "    counter += 1"
      ],
      "execution_count": 213,
      "outputs": []
    },
    {
      "cell_type": "code",
      "metadata": {
        "id": "DXv3PICVdTEs",
        "colab_type": "code",
        "colab": {}
      },
      "source": [
        "net_savings = savings_of_all_counselings - cost_of_all_counselings"
      ],
      "execution_count": 214,
      "outputs": []
    },
    {
      "cell_type": "code",
      "metadata": {
        "id": "P6NQxcUAdTEv",
        "colab_type": "code",
        "colab": {}
      },
      "source": [
        "# plt.plot(thresholds, cost_of_all_counselings)"
      ],
      "execution_count": 215,
      "outputs": []
    },
    {
      "cell_type": "code",
      "metadata": {
        "id": "jW_z1VWZdTEx",
        "colab_type": "code",
        "colab": {}
      },
      "source": [
        "# plt.plot(thresholds, savings_of_all_counselings)"
      ],
      "execution_count": 216,
      "outputs": []
    },
    {
      "cell_type": "code",
      "metadata": {
        "id": "kcwFS4b6dTEz",
        "colab_type": "code",
        "colab": {
          "base_uri": "https://localhost:8080/",
          "height": 585
        },
        "outputId": "0db9a7fc-581b-4c48-bedc-3c9fd682b019"
      },
      "source": [
        "mpl.rcParams['figure.dpi'] = 150\n",
        "plt.plot(thresholds, net_savings)\n",
        "plt.xlabel('Threshold')\n",
        "plt.ylabel('Net savings (NT$)')\n",
        "plt.xticks(np.linspace(0,1,11))\n",
        "plt.grid(True)"
      ],
      "execution_count": 222,
      "outputs": [
        {
          "output_type": "display_data",
          "data": {
            "image/png": "[encoded data removed]",
            "text/plain": [
              "<Figure size 900x600 with 1 Axes>"
            ]
          },
          "metadata": {
            "tags": [],
            "needs_background": "light"
          }
        }
      ]
    },
    {
      "cell_type": "code",
      "metadata": {
        "id": "AvmxFgL0dTE2",
        "colab_type": "code",
        "colab": {}
      },
      "source": [
        "max_savings_ix = np.argmax(net_savings)"
      ],
      "execution_count": 218,
      "outputs": []
    },
    {
      "cell_type": "markdown",
      "metadata": {
        "id": "ZFqWGE-6dTE3",
        "colab_type": "text"
      },
      "source": [
        "What is the threshold at which maximum savings is achieved?"
      ]
    },
    {
      "cell_type": "code",
      "metadata": {
        "id": "xYLHQy5odTE4",
        "colab_type": "code",
        "colab": {
          "base_uri": "https://localhost:8080/",
          "height": 34
        },
        "outputId": "d905635c-15f3-4165-9e10-82f61fc0a3fc"
      },
      "source": [
        "thresholds[max_savings_ix]\n",
        "# 0.2"
      ],
      "execution_count": 219,
      "outputs": [
        {
          "output_type": "execute_result",
          "data": {
            "text/plain": [
              "0.2"
            ]
          },
          "metadata": {
            "tags": []
          },
          "execution_count": 219
        }
      ]
    },
    {
      "cell_type": "markdown",
      "metadata": {
        "id": "lWn7ZKxrdTE6",
        "colab_type": "text"
      },
      "source": [
        "What is the maximum possible savings?"
      ]
    },
    {
      "cell_type": "code",
      "metadata": {
        "id": "_pbBThQ7dTE6",
        "colab_type": "code",
        "colab": {
          "base_uri": "https://localhost:8080/",
          "height": 34
        },
        "outputId": "b552a627-9b21-41e3-cf2a-89d2fe41600a"
      },
      "source": [
        "net_savings[max_savings_ix]\n",
        "# 15446325.35991916"
      ],
      "execution_count": 220,
      "outputs": [
        {
          "output_type": "execute_result",
          "data": {
            "text/plain": [
              "15446325.35991916"
            ]
          },
          "metadata": {
            "tags": []
          },
          "execution_count": 220
        }
      ]
    },
    {
      "cell_type": "markdown",
      "metadata": {
        "id": "yq5oVJqedTE8",
        "colab_type": "text"
      },
      "source": [
        "## Challenge: Deriving Financial Insights"
      ]
    },
    {
      "cell_type": "markdown",
      "metadata": {
        "id": "CXr7SfdxdTE8",
        "colab_type": "text"
      },
      "source": [
        "    Everything that is needed prior to this challenge has been included in the notebook above. You should run all the necessary portions of the provided code before beginning these tasks."
      ]
    },
    {
      "cell_type": "code",
      "metadata": {
        "id": "EFcoZHAmdTE_",
        "colab_type": "code",
        "colab": {
          "base_uri": "https://localhost:8080/",
          "height": 34
        },
        "outputId": "a302d5d3-f677-4c6d-c7b1-5bc085d983d9"
      },
      "source": [
        "# This will autosave your notebook every ten seconds\n",
        "%autosave 10"
      ],
      "execution_count": 221,
      "outputs": [
        {
          "output_type": "display_data",
          "data": {
            "application/javascript": [
              "IPython.notebook.set_autosave_interval(10000)"
            ]
          },
          "metadata": {
            "tags": []
          }
        },
        {
          "output_type": "stream",
          "text": [
            "Autosaving every 10 seconds\n"
          ],
          "name": "stdout"
        }
      ]
    },
    {
      "cell_type": "markdown",
      "metadata": {
        "id": "FezIDHj3dTFD",
        "colab_type": "text"
      },
      "source": [
        "**Using the testing set, calculate the cost of all defaults if there were no counseling program and output your result.**"
      ]
    },
    {
      "cell_type": "code",
      "metadata": {
        "eid": "415a5",
        "id": "4LSOH1lvdTFE",
        "colab_type": "code",
        "colab": {
          "base_uri": "https://localhost:8080/",
          "height": 34
        },
        "outputId": "0c1b82dc-f8a8-43d0-9216-7d0498839838"
      },
      "source": [
        "cost_of_all_default = sum(y_test_all) * savings_per_default\n",
        "cost_of_all_default"
      ],
      "execution_count": 223,
      "outputs": [
        {
          "output_type": "execute_result",
          "data": {
            "text/plain": [
              "66308240.202088244"
            ]
          },
          "metadata": {
            "tags": []
          },
          "execution_count": 223
        }
      ]
    },
    {
      "cell_type": "markdown",
      "metadata": {
        "id": "7fc_vR4EdTFI",
        "colab_type": "text"
      },
      "source": [
        "_______________________________________________________________________________________________\n",
        "**Next, calculate by what percent can the cost of defaults be decreased by the counseling program and output you result.**"
      ]
    },
    {
      "cell_type": "code",
      "metadata": {
        "eid": "96508",
        "id": "f3k6_RmgdTFJ",
        "colab_type": "code",
        "colab": {
          "base_uri": "https://localhost:8080/",
          "height": 34
        },
        "outputId": "5f9cc34d-7f2c-437c-ebbe-47c06e812f66"
      },
      "source": [
        "net_savings[max_savings_ix] / cost_of_all_default"
      ],
      "execution_count": 224,
      "outputs": [
        {
          "output_type": "execute_result",
          "data": {
            "text/plain": [
              "0.2329472975431598"
            ]
          },
          "metadata": {
            "tags": []
          },
          "execution_count": 224
        }
      ]
    },
    {
      "cell_type": "markdown",
      "metadata": {
        "id": "oaav7PWgdTFO",
        "colab_type": "text"
      },
      "source": [
        "_______________________________________________________________________________________________\n",
        "**Then, calculate the net savings per account at the optimal threshold and output your result.**"
      ]
    },
    {
      "cell_type": "code",
      "metadata": {
        "eid": "5d78e",
        "id": "cH-Rg5JhdTFO",
        "colab_type": "code",
        "colab": {
          "base_uri": "https://localhost:8080/",
          "height": 34
        },
        "outputId": "d3706d32-67b6-4ade-b3e2-0e6094aed1c4"
      },
      "source": [
        "net_savings[max_savings_ix] / len(y_test_all)"
      ],
      "execution_count": 225,
      "outputs": [
        {
          "output_type": "execute_result",
          "data": {
            "text/plain": [
              "2601.2673223171373"
            ]
          },
          "metadata": {
            "tags": []
          },
          "execution_count": 225
        }
      ]
    },
    {
      "cell_type": "markdown",
      "metadata": {
        "id": "7pWdEknIdTFQ",
        "colab_type": "text"
      },
      "source": [
        "_______________________________________________________________________________________________\n",
        "**Now, plot the net savings per account against the cost of counseling per account for each threshold.**"
      ]
    },
    {
      "cell_type": "code",
      "metadata": {
        "eid": "71d38",
        "id": "kQKqmbGydTFQ",
        "colab_type": "code",
        "colab": {
          "base_uri": "https://localhost:8080/",
          "height": 562
        },
        "outputId": "8fc1543a-170a-49ac-e4cd-2b3d601e2850"
      },
      "source": [
        "plt.plot(cost_of_all_counselings / len(y_test_all), net_savings / len(y_test_all))\n",
        "plt.xlabel('Cost of Counseling per Account')\n",
        "plt.ylabel('Net Savings per Account (NT$)')\n",
        "plt.show()"
      ],
      "execution_count": 226,
      "outputs": [
        {
          "output_type": "display_data",
          "data": {
            "image/png": "[encoded data removed]",
            "text/plain": [
              "<Figure size 900x600 with 1 Axes>"
            ]
          },
          "metadata": {
            "tags": [],
            "needs_background": "light"
          }
        }
      ]
    },
    {
      "cell_type": "markdown",
      "metadata": {
        "id": "3YhJuNsvdTFS",
        "colab_type": "text"
      },
      "source": [
        "_______________________________________________________________________________________________\n",
        "**Next, plot the fraction of accounts predicted as positive (this is called the \"flag rate\") at each threshold.**"
      ]
    },
    {
      "cell_type": "code",
      "metadata": {
        "eid": "6270e",
        "id": "17fv3Zi8dTFS",
        "colab_type": "code",
        "colab": {
          "base_uri": "https://localhost:8080/",
          "height": 562
        },
        "outputId": "a7e8e083-a84f-4f43-e9bc-a72c1f12212b"
      },
      "source": [
        "plt.plot(thresholds, n_pos_pred / len(y_test_all))\n",
        "plt.xlabel('thresholds')\n",
        "plt.ylabel('flag rate')\n",
        "plt.show()"
      ],
      "execution_count": 227,
      "outputs": [
        {
          "output_type": "display_data",
          "data": {
            "image/png": "[encoded data removed]",
            "text/plain": [
              "<Figure size 900x600 with 1 Axes>"
            ]
          },
          "metadata": {
            "tags": [],
            "needs_background": "light"
          }
        }
      ]
    },
    {
      "cell_type": "markdown",
      "metadata": {
        "id": "xq35TM2qdTFX",
        "colab_type": "text"
      },
      "source": [
        "_______________________________________________________________________________________________\n",
        "**Next, plot a precision-recall curve for the testing data.**"
      ]
    },
    {
      "cell_type": "code",
      "metadata": {
        "eid": "0edc5",
        "id": "U_KBaVMedTFX",
        "colab_type": "code",
        "colab": {
          "base_uri": "https://localhost:8080/",
          "height": 594
        },
        "outputId": "6976dc24-cc5d-4b4d-cbf3-c6249189e951"
      },
      "source": [
        "from sklearn.metrics import precision_recall_curve\n",
        "precision, recall, _ = precision_recall_curve(y_test_all, y_test_all_predict_proba[:,1])\n",
        "plt.plot(recall, precision)\n",
        "plt.title('precision-recall curve for testing data')\n",
        "plt.xlabel('Recall')\n",
        "plt.ylabel('Precision')\n",
        "plt.show()"
      ],
      "execution_count": 228,
      "outputs": [
        {
          "output_type": "display_data",
          "data": {
            "image/png": "[encoded data removed]",
            "text/plain": [
              "<Figure size 900x600 with 1 Axes>"
            ]
          },
          "metadata": {
            "tags": [],
            "needs_background": "light"
          }
        }
      ]
    },
    {
      "cell_type": "markdown",
      "metadata": {
        "id": "bc_ujfWpdTFa",
        "colab_type": "text"
      },
      "source": [
        "_______________________________________________________________________________________________\n",
        "**Finally, plot precision and recall separately on the y-axis against threshold on the x-axis.**"
      ]
    },
    {
      "cell_type": "code",
      "metadata": {
        "eid": "88413",
        "id": "oVAospShdTFa",
        "colab_type": "code",
        "colab": {
          "base_uri": "https://localhost:8080/",
          "height": 596
        },
        "outputId": "7141ab6a-bc4f-466a-a53a-83782b8697b7"
      },
      "source": [
        "plt.plot(thresholds, np.divide(n_true_pos,n_pos_pred), label=\"Precision\")\n",
        "plt.plot(thresholds, n_true_pos/sum(y_test_all), label=\"Recall\")\n",
        "plt.xlabel(\"Thresholds\")\n",
        "plt.legend()\n",
        "plt.show()"
      ],
      "execution_count": 229,
      "outputs": [
        {
          "output_type": "stream",
          "text": [
            "/usr/local/lib/python3.6/dist-packages/ipykernel_launcher.py:2: RuntimeWarning: invalid value encountered in true_divide\n",
            "  \n"
          ],
          "name": "stderr"
        },
        {
          "output_type": "display_data",
          "data": {
            "image/png": "[encoded data removed]",
            "text/plain": [
              "<Figure size 900x600 with 1 Axes>"
            ]
          },
          "metadata": {
            "tags": [],
            "needs_background": "light"
          }
        }
      ]
    }
  ]
}